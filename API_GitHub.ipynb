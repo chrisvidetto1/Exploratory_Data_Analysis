{
  "nbformat": 4,
  "nbformat_minor": 0,
  "metadata": {
    "colab": {
      "name": "API_GitHub.ipynb",
      "provenance": [],
      "collapsed_sections": [],
      "authorship_tag": "ABX9TyNa17y1XSDkAmrBXdTGVSbH"
    },
    "kernelspec": {
      "name": "python3",
      "display_name": "Python 3"
    }
  },
  "cells": [
    {
      "cell_type": "markdown",
      "metadata": {
        "id": "oGM1lhM1juJ2"
      },
      "source": [
        "## Simple Guide to Working with API's\n",
        "##### By: Chris Videtto\n",
        "##### Based on: 2nd Edition Python Crash Course"
      ]
    },
    {
      "cell_type": "markdown",
      "metadata": {
        "id": "Wx-aAKHcj_bX"
      },
      "source": [
        "### Requesting Data Using an API Call"
      ]
    },
    {
      "cell_type": "code",
      "metadata": {
        "id": "pMmW0MyBdIu_"
      },
      "source": [
        "# Import the package first\n",
        "import requests"
      ],
      "execution_count": 2,
      "outputs": []
    },
    {
      "cell_type": "code",
      "metadata": {
        "id": "mhl06_fIdAFr",
        "outputId": "cbc2723d-299a-42d1-b850-33305f352032",
        "colab": {
          "base_uri": "https://localhost:8080/",
          "height": 34
        }
      },
      "source": [
        "# Make an API call and store the response in a variable\n",
        "\n",
        "url = 'https://api.github.com/search/repositories?q=language:python&sort=stars'\n",
        "headers = {'Accept': 'application/vnd.github.v3+json'}\n",
        "r = requests.get(url, headers=headers)\n",
        "\n",
        "#Print the value of Status Code to make sure the call was successful\n",
        "print(f\"Status code: {r.status_code}\")"
      ],
      "execution_count": 25,
      "outputs": [
        {
          "output_type": "stream",
          "text": [
            "Status code: 200\n"
          ],
          "name": "stdout"
        }
      ]
    },
    {
      "cell_type": "code",
      "metadata": {
        "id": "dbGtVGYOdLtL"
      },
      "source": [
        "# View the API response as a .json\n",
        "response_dict = r.json()\n",
        "response_dict"
      ],
      "execution_count": null,
      "outputs": []
    },
    {
      "cell_type": "markdown",
      "metadata": {
        "id": "ToIDEba1kfhR"
      },
      "source": [
        "### Working with the Response Dictionary"
      ]
    },
    {
      "cell_type": "code",
      "metadata": {
        "id": "Vd6ebQl6dPMv",
        "outputId": "d7fc4c1d-f627-46a2-fb85-4e0c608d4db6",
        "colab": {
          "base_uri": "https://localhost:8080/",
          "height": 51
        }
      },
      "source": [
        "# Examine results\n",
        "print(response_dict.keys())\n",
        "\n",
        "print(f\"Total repositories: {response_dict['total_count']}\")"
      ],
      "execution_count": 5,
      "outputs": [
        {
          "output_type": "stream",
          "text": [
            "dict_keys(['total_count', 'incomplete_results', 'items'])\n",
            "Total repositories: 5873996\n"
          ],
          "name": "stdout"
        }
      ]
    },
    {
      "cell_type": "code",
      "metadata": {
        "id": "iUMU6YqBdYms",
        "outputId": "2c72ab42-0f51-491b-c4fa-890efdf16079",
        "colab": {
          "base_uri": "https://localhost:8080/",
          "height": 34
        }
      },
      "source": [
        "# Explore information about the repositories \n",
        "repo_dicts = response_dict['items']\n",
        "print(f\"Repositories returned: {len(repo_dicts)}\")"
      ],
      "execution_count": 6,
      "outputs": [
        {
          "output_type": "stream",
          "text": [
            "Repositories returned: 30\n"
          ],
          "name": "stdout"
        }
      ]
    },
    {
      "cell_type": "code",
      "metadata": {
        "id": "hL2XMDkDdh2U"
      },
      "source": [
        "# Examine the first repository\n",
        "repo_dict = repo_dicts[0]\n",
        "print(f\"\\nKeys: {len(repo_dict)}\")\n",
        "for key in sorted(repo_dict.keys()):\n",
        "    print(key)"
      ],
      "execution_count": null,
      "outputs": []
    },
    {
      "cell_type": "code",
      "metadata": {
        "id": "RfyFunFHimbi",
        "outputId": "9e1b5d65-26a1-4ced-bfa3-dcaeb7d8d946",
        "colab": {
          "base_uri": "https://localhost:8080/",
          "height": 1000
        }
      },
      "source": [
        "### Lets create a loop to print out information for the top repositories\n",
        "\n",
        "repo_dicts = response_dict['items']\n",
        "print(f\"Repositories returned: {len(repo_dicts)}\")\n",
        "for repo_dict in repo_dicts:\n",
        "  print(\"\\nSelected information about each repository:\")\n",
        "  print(f\"Name: {repo_dict['name']}\")\n",
        "  print(f\"Owner: {repo_dict['owner']['login']}\")\n",
        "  print(f\"Stars: {repo_dict['stargazers_count']}\")\n",
        "  print(f\"Repository: {repo_dict['html_url']}\")\n",
        "  print(f\"Created: {repo_dict['created_at']}\")\n",
        "  print(f\"Updated: {repo_dict['updated_at']}\")\n",
        "  print(f\"Description: {repo_dict['description']}\")"
      ],
      "execution_count": 21,
      "outputs": [
        {
          "output_type": "stream",
          "text": [
            "Repositories returned: 30\n",
            "\n",
            "Selected information about each repository:\n",
            "Name: system-design-primer\n",
            "Owner: donnemartin\n",
            "Stars: 107963\n",
            "Repository: https://github.com/donnemartin/system-design-primer\n",
            "Created: 2017-02-26T16:15:28Z\n",
            "Updated: 2020-09-29T15:20:52Z\n",
            "Description: Learn how to design large-scale systems. Prep for the system design interview.  Includes Anki flashcards.\n",
            "\n",
            "Selected information about each repository:\n",
            "Name: awesome-python\n",
            "Owner: vinta\n",
            "Stars: 87191\n",
            "Repository: https://github.com/vinta/awesome-python\n",
            "Created: 2014-06-27T21:00:06Z\n",
            "Updated: 2020-09-29T14:26:52Z\n",
            "Description: A curated list of awesome Python frameworks, libraries, software and resources\n",
            "\n",
            "Selected information about each repository:\n",
            "Name: youtube-dl\n",
            "Owner: ytdl-org\n",
            "Stars: 71372\n",
            "Repository: https://github.com/ytdl-org/youtube-dl\n",
            "Created: 2010-10-31T14:35:07Z\n",
            "Updated: 2020-09-29T14:14:24Z\n",
            "Description: Command-line program to download videos from YouTube.com and other video sites\n",
            "\n",
            "Selected information about each repository:\n",
            "Name: models\n",
            "Owner: tensorflow\n",
            "Stars: 66429\n",
            "Repository: https://github.com/tensorflow/models\n",
            "Created: 2016-02-05T01:15:20Z\n",
            "Updated: 2020-09-29T14:57:38Z\n",
            "Description: Models and examples built with TensorFlow\n",
            "\n",
            "Selected information about each repository:\n",
            "Name: thefuck\n",
            "Owner: nvbn\n",
            "Stars: 55694\n",
            "Repository: https://github.com/nvbn/thefuck\n",
            "Created: 2015-04-08T15:08:04Z\n",
            "Updated: 2020-09-29T13:55:18Z\n",
            "Description: Magnificent app which corrects your previous console command.\n",
            "\n",
            "Selected information about each repository:\n",
            "Name: django\n",
            "Owner: django\n",
            "Stars: 52450\n",
            "Repository: https://github.com/django/django\n",
            "Created: 2012-04-28T02:47:18Z\n",
            "Updated: 2020-09-29T14:55:32Z\n",
            "Description: The Web framework for perfectionists with deadlines.\n",
            "\n",
            "Selected information about each repository:\n",
            "Name: flask\n",
            "Owner: pallets\n",
            "Stars: 52208\n",
            "Repository: https://github.com/pallets/flask\n",
            "Created: 2010-04-06T11:11:59Z\n",
            "Updated: 2020-09-29T15:14:22Z\n",
            "Description: The Python micro framework for building web applications.\n",
            "\n",
            "Selected information about each repository:\n",
            "Name: keras\n",
            "Owner: keras-team\n",
            "Stars: 49859\n",
            "Repository: https://github.com/keras-team/keras\n",
            "Created: 2015-03-28T00:35:42Z\n",
            "Updated: 2020-09-29T15:12:17Z\n",
            "Description: Deep Learning for humans\n",
            "\n",
            "Selected information about each repository:\n",
            "Name: httpie\n",
            "Owner: httpie\n",
            "Stars: 48205\n",
            "Repository: https://github.com/httpie/httpie\n",
            "Created: 2012-02-25T12:39:13Z\n",
            "Updated: 2020-09-29T14:48:35Z\n",
            "Description: As easy as /aitch-tee-tee-pie/ 🥧 Modern, user-friendly command-line HTTP client for the API era. JSON support, colors, sessions, downloads, plugins & more. https://twitter.com/clihttp\n",
            "\n",
            "Selected information about each repository:\n",
            "Name: ansible\n",
            "Owner: ansible\n",
            "Stars: 44912\n",
            "Repository: https://github.com/ansible/ansible\n",
            "Created: 2012-03-06T14:58:02Z\n",
            "Updated: 2020-09-29T15:11:02Z\n",
            "Description: Ansible is a radically simple IT automation platform that makes your applications and systems easier to deploy and maintain. Automate everything from code deployment to network configuration to cloud management, in a language that approaches plain English, using SSH, with no agents to install on remote systems. https://docs.ansible.com.\n",
            "\n",
            "Selected information about each repository:\n",
            "Name: requests\n",
            "Owner: psf\n",
            "Stars: 43575\n",
            "Repository: https://github.com/psf/requests\n",
            "Created: 2011-02-13T18:38:17Z\n",
            "Updated: 2020-09-29T09:00:23Z\n",
            "Description: A simple, yet elegant HTTP library.\n",
            "\n",
            "Selected information about each repository:\n",
            "Name: scikit-learn\n",
            "Owner: scikit-learn\n",
            "Stars: 42443\n",
            "Repository: https://github.com/scikit-learn/scikit-learn\n",
            "Created: 2010-08-17T09:43:38Z\n",
            "Updated: 2020-09-29T15:12:34Z\n",
            "Description: scikit-learn: machine learning in Python\n",
            "\n",
            "Selected information about each repository:\n",
            "Name: big-list-of-naughty-strings\n",
            "Owner: minimaxir\n",
            "Stars: 38009\n",
            "Repository: https://github.com/minimaxir/big-list-of-naughty-strings\n",
            "Created: 2015-08-08T20:57:20Z\n",
            "Updated: 2020-09-29T14:58:10Z\n",
            "Description: The Big List of Naughty Strings is a list of strings which have a high probability of causing issues when used as user-input data.\n",
            "\n",
            "Selected information about each repository:\n",
            "Name: face_recognition\n",
            "Owner: ageitgey\n",
            "Stars: 36444\n",
            "Repository: https://github.com/ageitgey/face_recognition\n",
            "Created: 2017-03-03T21:52:39Z\n",
            "Updated: 2020-09-29T14:58:21Z\n",
            "Description: The world's simplest facial recognition api for Python and the command line\n",
            "\n",
            "Selected information about each repository:\n",
            "Name: core\n",
            "Owner: home-assistant\n",
            "Stars: 35810\n",
            "Repository: https://github.com/home-assistant/core\n",
            "Created: 2013-09-17T07:29:48Z\n",
            "Updated: 2020-09-29T15:20:03Z\n",
            "Description: :house_with_garden: Open source home automation that puts local control and privacy first\n",
            "\n",
            "Selected information about each repository:\n",
            "Name: you-get\n",
            "Owner: soimort\n",
            "Stars: 35124\n",
            "Repository: https://github.com/soimort/you-get\n",
            "Created: 2012-08-20T15:53:36Z\n",
            "Updated: 2020-09-29T12:41:00Z\n",
            "Description: :arrow_double_down: Dumb downloader that scrapes the web\n",
            "\n",
            "Selected information about each repository:\n",
            "Name: HelloGitHub\n",
            "Owner: 521xueweihan\n",
            "Stars: 33784\n",
            "Repository: https://github.com/521xueweihan/HelloGitHub\n",
            "Created: 2016-05-04T06:24:11Z\n",
            "Updated: 2020-09-29T15:10:14Z\n",
            "Description: :octocat: Find pearls on open-source seashore 分享 GitHub 上有趣、入门级的开源项目\n",
            "\n",
            "Selected information about each repository:\n",
            "Name: shadowsocks\n",
            "Owner: shadowsocks\n",
            "Stars: 32779\n",
            "Repository: https://github.com/shadowsocks/shadowsocks\n",
            "Created: 2012-04-20T13:10:49Z\n",
            "Updated: 2020-09-29T09:06:57Z\n",
            "Description: None\n",
            "\n",
            "Selected information about each repository:\n",
            "Name: faceswap\n",
            "Owner: deepfakes\n",
            "Stars: 32514\n",
            "Repository: https://github.com/deepfakes/faceswap\n",
            "Created: 2017-12-19T09:44:13Z\n",
            "Updated: 2020-09-29T14:16:17Z\n",
            "Description: Deepfakes Software For All\n",
            "\n",
            "Selected information about each repository:\n",
            "Name: XX-Net\n",
            "Owner: XX-net\n",
            "Stars: 30343\n",
            "Repository: https://github.com/XX-net/XX-Net\n",
            "Created: 2015-01-15T09:35:51Z\n",
            "Updated: 2020-09-29T12:44:36Z\n",
            "Description: A proxy tool to bypass GFW.\n",
            "\n",
            "Selected information about each repository:\n",
            "Name: incubator-superset\n",
            "Owner: apache\n",
            "Stars: 30234\n",
            "Repository: https://github.com/apache/incubator-superset\n",
            "Created: 2015-07-21T18:55:34Z\n",
            "Updated: 2020-09-29T15:22:23Z\n",
            "Description: Apache Superset is a Data Visualization and Data Exploration Platform\n",
            "\n",
            "Selected information about each repository:\n",
            "Name: 12306\n",
            "Owner: testerSunshine\n",
            "Stars: 28738\n",
            "Repository: https://github.com/testerSunshine/12306\n",
            "Created: 2017-05-17T12:23:40Z\n",
            "Updated: 2020-09-29T14:29:44Z\n",
            "Description: 12306智能刷票，订票\n",
            "\n",
            "Selected information about each repository:\n",
            "Name: CppCoreGuidelines\n",
            "Owner: isocpp\n",
            "Stars: 28620\n",
            "Repository: https://github.com/isocpp/CppCoreGuidelines\n",
            "Created: 2015-08-19T20:22:52Z\n",
            "Updated: 2020-09-29T13:33:50Z\n",
            "Description: The C++ Core Guidelines are a set of tried-and-true guidelines, rules, and best practices about coding in C++\n",
            "\n",
            "Selected information about each repository:\n",
            "Name: Deep-Learning-Papers-Reading-Roadmap\n",
            "Owner: floodsung\n",
            "Stars: 28393\n",
            "Repository: https://github.com/floodsung/Deep-Learning-Papers-Reading-Roadmap\n",
            "Created: 2016-10-14T11:49:48Z\n",
            "Updated: 2020-09-29T14:29:31Z\n",
            "Description: Deep Learning papers reading roadmap for anyone who are eager to learn this amazing tech!\n",
            "\n",
            "Selected information about each repository:\n",
            "Name: certbot\n",
            "Owner: certbot\n",
            "Stars: 27215\n",
            "Repository: https://github.com/certbot/certbot\n",
            "Created: 2014-11-12T02:52:20Z\n",
            "Updated: 2020-09-29T15:11:01Z\n",
            "Description: Certbot is EFF's tool to obtain certs from Let's Encrypt and (optionally) auto-enable HTTPS on your server.  It can also act as a client for any other CA that uses the ACME protocol.\n",
            "\n",
            "Selected information about each repository:\n",
            "Name: AiLearning\n",
            "Owner: apachecn\n",
            "Stars: 27118\n",
            "Repository: https://github.com/apachecn/AiLearning\n",
            "Created: 2017-02-25T08:53:02Z\n",
            "Updated: 2020-09-29T14:15:08Z\n",
            "Description: AiLearning: 机器学习 - MachineLearning - ML、深度学习 - DeepLearning - DL、自然语言处理 NLP\n",
            "\n",
            "Selected information about each repository:\n",
            "Name: pandas\n",
            "Owner: pandas-dev\n",
            "Stars: 26703\n",
            "Repository: https://github.com/pandas-dev/pandas\n",
            "Created: 2010-08-24T01:37:33Z\n",
            "Updated: 2020-09-29T14:49:38Z\n",
            "Description: Flexible and powerful data analysis / manipulation library for Python, providing labeled data structures similar to R data.frame objects, statistical functions, and much more\n",
            "\n",
            "Selected information about each repository:\n",
            "Name: localstack\n",
            "Owner: localstack\n",
            "Stars: 26587\n",
            "Repository: https://github.com/localstack/localstack\n",
            "Created: 2016-10-25T23:48:03Z\n",
            "Updated: 2020-09-29T14:55:50Z\n",
            "Description: 💻  A fully functional local AWS cloud stack. Develop and test your cloud & Serverless apps offline!\n",
            "\n",
            "Selected information about each repository:\n",
            "Name: sentry\n",
            "Owner: getsentry\n",
            "Stars: 26182\n",
            "Repository: https://github.com/getsentry/sentry\n",
            "Created: 2010-08-30T22:06:41Z\n",
            "Updated: 2020-09-29T14:48:25Z\n",
            "Description: Sentry is cross-platform application monitoring, with a focus on error reporting.\n",
            "\n",
            "Selected information about each repository:\n",
            "Name: python-patterns\n",
            "Owner: faif\n",
            "Stars: 25952\n",
            "Repository: https://github.com/faif/python-patterns\n",
            "Created: 2012-06-06T21:02:35Z\n",
            "Updated: 2020-09-29T14:56:26Z\n",
            "Description: A collection of design patterns/idioms in Python\n"
          ],
          "name": "stdout"
        }
      ]
    },
    {
      "cell_type": "markdown",
      "metadata": {
        "id": "OkA6jb6ymKMT"
      },
      "source": [
        "### Monitoring API Rate Limits"
      ]
    },
    {
      "cell_type": "code",
      "metadata": {
        "id": "kIOBK-l3jl3J",
        "outputId": "17e11ff3-fd90-4235-d1da-9b04b97e8deb",
        "colab": {
          "base_uri": "https://localhost:8080/",
          "height": 204
        }
      },
      "source": [
        "# Create an API call and store the response\n",
        "\n",
        "url = 'https://api.github.com/rate_limit'\n",
        "headers = {'Accept': 'application/vnd.github.v3+json'}\n",
        "r = requests.get(url, headers=headers)\n",
        "\n",
        "# View the API response as a .json \n",
        "API_rate_limits = r.json()\n",
        "API_rate_limits"
      ],
      "execution_count": 23,
      "outputs": [
        {
          "output_type": "execute_result",
          "data": {
            "text/plain": [
              "{'rate': {'limit': 60, 'remaining': 60, 'reset': 1601398808, 'used': 0},\n",
              " 'resources': {'core': {'limit': 60,\n",
              "   'remaining': 60,\n",
              "   'reset': 1601398808,\n",
              "   'used': 0},\n",
              "  'graphql': {'limit': 0, 'remaining': 0, 'reset': 1601398808, 'used': 0},\n",
              "  'integration_manifest': {'limit': 5000,\n",
              "   'remaining': 5000,\n",
              "   'reset': 1601398808,\n",
              "   'used': 0},\n",
              "  'search': {'limit': 10, 'remaining': 10, 'reset': 1601395268, 'used': 0}}}"
            ]
          },
          "metadata": {
            "tags": []
          },
          "execution_count": 23
        }
      ]
    },
    {
      "cell_type": "markdown",
      "metadata": {
        "id": "RlFNZJM-oJwG"
      },
      "source": [
        "### Visualizing Repositories Using Plotly"
      ]
    },
    {
      "cell_type": "code",
      "metadata": {
        "id": "JkghiQVUoSEG"
      },
      "source": [
        "from plotly.graph_objs import Bar\n",
        "from plotly import offline"
      ],
      "execution_count": 27,
      "outputs": []
    },
    {
      "cell_type": "code",
      "metadata": {
        "id": "1gJYaHSWoxHm"
      },
      "source": [
        "# Process results from initial API call\n",
        "response_dict = r.json()\n",
        "repo_dicts = response_dict['items']\n",
        "repo_names, stars = [], []\n",
        "for repo_dict in repo_dicts:\n",
        "  repo_names.append(repo_dict['name'])\n",
        "  stars.append(repo_dict['stargazers_count'])"
      ],
      "execution_count": 29,
      "outputs": []
    },
    {
      "cell_type": "code",
      "metadata": {
        "id": "ZkO2nWDxrxiU",
        "outputId": "ec903de9-ee67-4a77-8841-8f4771245fb1",
        "colab": {
          "base_uri": "https://localhost:8080/",
          "height": 542
        }
      },
      "source": [
        "# Make visualization\n",
        "\n",
        "data = [{\n",
        "    'type' : 'bar',\n",
        "    'x' : repo_names,\n",
        "    'y' : stars,\n",
        "}]\n",
        "\n",
        "my_layout = {\n",
        "    'title' : 'Most-Starred Python Projects on Github',\n",
        "    'xaxis' : {'title': 'Repository'},\n",
        "    'yaxis' : {'title': 'Stars'},\n",
        "}\n",
        "\n",
        "fig = {'data': data, 'layout': my_layout}\n",
        "\n",
        "import plotly.io as pio\n",
        "pio.show(fig)"
      ],
      "execution_count": 41,
      "outputs": [
        {
          "output_type": "display_data",
          "data": {
            "text/html": [
              "<html>\n",
              "<head><meta charset=\"utf-8\" /></head>\n",
              "<body>\n",
              "    <div>\n",
              "            <script src=\"https://cdnjs.cloudflare.com/ajax/libs/mathjax/2.7.5/MathJax.js?config=TeX-AMS-MML_SVG\"></script><script type=\"text/javascript\">if (window.MathJax) {MathJax.Hub.Config({SVG: {font: \"STIX-Web\"}});}</script>\n",
              "                <script type=\"text/javascript\">window.PlotlyConfig = {MathJaxConfig: 'local'};</script>\n",
              "        <script src=\"https://cdn.plot.ly/plotly-latest.min.js\"></script>    \n",
              "            <div id=\"e04f1ccd-ba1a-4f61-b861-1ba1db1e559e\" class=\"plotly-graph-div\" style=\"height:525px; width:100%;\"></div>\n",
              "            <script type=\"text/javascript\">\n",
              "                \n",
              "                    window.PLOTLYENV=window.PLOTLYENV || {};\n",
              "                    \n",
              "                if (document.getElementById(\"e04f1ccd-ba1a-4f61-b861-1ba1db1e559e\")) {\n",
              "                    Plotly.newPlot(\n",
              "                        'e04f1ccd-ba1a-4f61-b861-1ba1db1e559e',\n",
              "                        [{\"type\": \"bar\", \"x\": [\"Python\", \"youtube-dl\", \"models\", \"django\", \"flask\", \"keras\", \"ansible\", \"requests\", \"scikit-learn\", \"big-list-of-naughty-strings\", \"core\", \"you-get\", \"transformers\", \"HelloGitHub\", \"cpython\", \"shadowsocks\", \"faceswap\", \"incubator-superset\", \"interview_internal_reference\", \"12306\", \"CppCoreGuidelines\", \"Deep-Learning-Papers-Reading-Roadmap\", \"AiLearning\", \"pandas\", \"sentry\", \"python-patterns\", \"manim\", \"bert\", \"funNLP\", \"jieba\"], \"y\": [86218, 71374, 66429, 52453, 52210, 49861, 44913, 43575, 42443, 38009, 35816, 35124, 34338, 33784, 33730, 32780, 32514, 30234, 28985, 28738, 28620, 28393, 27119, 26703, 26182, 25952, 25619, 25038, 24845, 24220]}],\n",
              "                        {\"template\": {\"data\": {\"bar\": [{\"error_x\": {\"color\": \"#2a3f5f\"}, \"error_y\": {\"color\": \"#2a3f5f\"}, \"marker\": {\"line\": {\"color\": \"#E5ECF6\", \"width\": 0.5}}, \"type\": \"bar\"}], \"barpolar\": [{\"marker\": {\"line\": {\"color\": \"#E5ECF6\", \"width\": 0.5}}, \"type\": \"barpolar\"}], \"carpet\": [{\"aaxis\": {\"endlinecolor\": \"#2a3f5f\", \"gridcolor\": \"white\", \"linecolor\": \"white\", \"minorgridcolor\": \"white\", \"startlinecolor\": \"#2a3f5f\"}, \"baxis\": {\"endlinecolor\": \"#2a3f5f\", \"gridcolor\": \"white\", \"linecolor\": \"white\", \"minorgridcolor\": \"white\", \"startlinecolor\": \"#2a3f5f\"}, \"type\": \"carpet\"}], \"choropleth\": [{\"colorbar\": {\"outlinewidth\": 0, \"ticks\": \"\"}, \"type\": \"choropleth\"}], \"contour\": [{\"colorbar\": {\"outlinewidth\": 0, \"ticks\": \"\"}, \"colorscale\": [[0.0, \"#0d0887\"], [0.1111111111111111, \"#46039f\"], [0.2222222222222222, \"#7201a8\"], [0.3333333333333333, \"#9c179e\"], [0.4444444444444444, \"#bd3786\"], [0.5555555555555556, \"#d8576b\"], [0.6666666666666666, \"#ed7953\"], [0.7777777777777778, \"#fb9f3a\"], [0.8888888888888888, \"#fdca26\"], [1.0, \"#f0f921\"]], \"type\": \"contour\"}], \"contourcarpet\": [{\"colorbar\": {\"outlinewidth\": 0, \"ticks\": \"\"}, \"type\": \"contourcarpet\"}], \"heatmap\": [{\"colorbar\": {\"outlinewidth\": 0, \"ticks\": \"\"}, \"colorscale\": [[0.0, \"#0d0887\"], [0.1111111111111111, \"#46039f\"], [0.2222222222222222, \"#7201a8\"], [0.3333333333333333, \"#9c179e\"], [0.4444444444444444, \"#bd3786\"], [0.5555555555555556, \"#d8576b\"], [0.6666666666666666, \"#ed7953\"], [0.7777777777777778, \"#fb9f3a\"], [0.8888888888888888, \"#fdca26\"], [1.0, \"#f0f921\"]], \"type\": \"heatmap\"}], \"heatmapgl\": [{\"colorbar\": {\"outlinewidth\": 0, \"ticks\": \"\"}, \"colorscale\": [[0.0, \"#0d0887\"], [0.1111111111111111, \"#46039f\"], [0.2222222222222222, \"#7201a8\"], [0.3333333333333333, \"#9c179e\"], [0.4444444444444444, \"#bd3786\"], [0.5555555555555556, \"#d8576b\"], [0.6666666666666666, \"#ed7953\"], [0.7777777777777778, \"#fb9f3a\"], [0.8888888888888888, \"#fdca26\"], [1.0, \"#f0f921\"]], \"type\": \"heatmapgl\"}], \"histogram\": [{\"marker\": {\"colorbar\": {\"outlinewidth\": 0, \"ticks\": \"\"}}, \"type\": \"histogram\"}], \"histogram2d\": [{\"colorbar\": {\"outlinewidth\": 0, \"ticks\": \"\"}, \"colorscale\": [[0.0, \"#0d0887\"], [0.1111111111111111, \"#46039f\"], [0.2222222222222222, \"#7201a8\"], [0.3333333333333333, \"#9c179e\"], [0.4444444444444444, \"#bd3786\"], [0.5555555555555556, \"#d8576b\"], [0.6666666666666666, \"#ed7953\"], [0.7777777777777778, \"#fb9f3a\"], [0.8888888888888888, \"#fdca26\"], [1.0, \"#f0f921\"]], \"type\": \"histogram2d\"}], \"histogram2dcontour\": [{\"colorbar\": {\"outlinewidth\": 0, \"ticks\": \"\"}, \"colorscale\": [[0.0, \"#0d0887\"], [0.1111111111111111, \"#46039f\"], [0.2222222222222222, \"#7201a8\"], [0.3333333333333333, \"#9c179e\"], [0.4444444444444444, \"#bd3786\"], [0.5555555555555556, \"#d8576b\"], [0.6666666666666666, \"#ed7953\"], [0.7777777777777778, \"#fb9f3a\"], [0.8888888888888888, \"#fdca26\"], [1.0, \"#f0f921\"]], \"type\": \"histogram2dcontour\"}], \"mesh3d\": [{\"colorbar\": {\"outlinewidth\": 0, \"ticks\": \"\"}, \"type\": \"mesh3d\"}], \"parcoords\": [{\"line\": {\"colorbar\": {\"outlinewidth\": 0, \"ticks\": \"\"}}, \"type\": \"parcoords\"}], \"pie\": [{\"automargin\": true, \"type\": \"pie\"}], \"scatter\": [{\"marker\": {\"colorbar\": {\"outlinewidth\": 0, \"ticks\": \"\"}}, \"type\": \"scatter\"}], \"scatter3d\": [{\"line\": {\"colorbar\": {\"outlinewidth\": 0, \"ticks\": \"\"}}, \"marker\": {\"colorbar\": {\"outlinewidth\": 0, \"ticks\": \"\"}}, \"type\": \"scatter3d\"}], \"scattercarpet\": [{\"marker\": {\"colorbar\": {\"outlinewidth\": 0, \"ticks\": \"\"}}, \"type\": \"scattercarpet\"}], \"scattergeo\": [{\"marker\": {\"colorbar\": {\"outlinewidth\": 0, \"ticks\": \"\"}}, \"type\": \"scattergeo\"}], \"scattergl\": [{\"marker\": {\"colorbar\": {\"outlinewidth\": 0, \"ticks\": \"\"}}, \"type\": \"scattergl\"}], \"scattermapbox\": [{\"marker\": {\"colorbar\": {\"outlinewidth\": 0, \"ticks\": \"\"}}, \"type\": \"scattermapbox\"}], \"scatterpolar\": [{\"marker\": {\"colorbar\": {\"outlinewidth\": 0, \"ticks\": \"\"}}, \"type\": \"scatterpolar\"}], \"scatterpolargl\": [{\"marker\": {\"colorbar\": {\"outlinewidth\": 0, \"ticks\": \"\"}}, \"type\": \"scatterpolargl\"}], \"scatterternary\": [{\"marker\": {\"colorbar\": {\"outlinewidth\": 0, \"ticks\": \"\"}}, \"type\": \"scatterternary\"}], \"surface\": [{\"colorbar\": {\"outlinewidth\": 0, \"ticks\": \"\"}, \"colorscale\": [[0.0, \"#0d0887\"], [0.1111111111111111, \"#46039f\"], [0.2222222222222222, \"#7201a8\"], [0.3333333333333333, \"#9c179e\"], [0.4444444444444444, \"#bd3786\"], [0.5555555555555556, \"#d8576b\"], [0.6666666666666666, \"#ed7953\"], [0.7777777777777778, \"#fb9f3a\"], [0.8888888888888888, \"#fdca26\"], [1.0, \"#f0f921\"]], \"type\": \"surface\"}], \"table\": [{\"cells\": {\"fill\": {\"color\": \"#EBF0F8\"}, \"line\": {\"color\": \"white\"}}, \"header\": {\"fill\": {\"color\": \"#C8D4E3\"}, \"line\": {\"color\": \"white\"}}, \"type\": \"table\"}]}, \"layout\": {\"annotationdefaults\": {\"arrowcolor\": \"#2a3f5f\", \"arrowhead\": 0, \"arrowwidth\": 1}, \"coloraxis\": {\"colorbar\": {\"outlinewidth\": 0, \"ticks\": \"\"}}, \"colorscale\": {\"diverging\": [[0, \"#8e0152\"], [0.1, \"#c51b7d\"], [0.2, \"#de77ae\"], [0.3, \"#f1b6da\"], [0.4, \"#fde0ef\"], [0.5, \"#f7f7f7\"], [0.6, \"#e6f5d0\"], [0.7, \"#b8e186\"], [0.8, \"#7fbc41\"], [0.9, \"#4d9221\"], [1, \"#276419\"]], \"sequential\": [[0.0, \"#0d0887\"], [0.1111111111111111, \"#46039f\"], [0.2222222222222222, \"#7201a8\"], [0.3333333333333333, \"#9c179e\"], [0.4444444444444444, \"#bd3786\"], [0.5555555555555556, \"#d8576b\"], [0.6666666666666666, \"#ed7953\"], [0.7777777777777778, \"#fb9f3a\"], [0.8888888888888888, \"#fdca26\"], [1.0, \"#f0f921\"]], \"sequentialminus\": [[0.0, \"#0d0887\"], [0.1111111111111111, \"#46039f\"], [0.2222222222222222, \"#7201a8\"], [0.3333333333333333, \"#9c179e\"], [0.4444444444444444, \"#bd3786\"], [0.5555555555555556, \"#d8576b\"], [0.6666666666666666, \"#ed7953\"], [0.7777777777777778, \"#fb9f3a\"], [0.8888888888888888, \"#fdca26\"], [1.0, \"#f0f921\"]]}, \"colorway\": [\"#636efa\", \"#EF553B\", \"#00cc96\", \"#ab63fa\", \"#FFA15A\", \"#19d3f3\", \"#FF6692\", \"#B6E880\", \"#FF97FF\", \"#FECB52\"], \"font\": {\"color\": \"#2a3f5f\"}, \"geo\": {\"bgcolor\": \"white\", \"lakecolor\": \"white\", \"landcolor\": \"#E5ECF6\", \"showlakes\": true, \"showland\": true, \"subunitcolor\": \"white\"}, \"hoverlabel\": {\"align\": \"left\"}, \"hovermode\": \"closest\", \"mapbox\": {\"style\": \"light\"}, \"paper_bgcolor\": \"white\", \"plot_bgcolor\": \"#E5ECF6\", \"polar\": {\"angularaxis\": {\"gridcolor\": \"white\", \"linecolor\": \"white\", \"ticks\": \"\"}, \"bgcolor\": \"#E5ECF6\", \"radialaxis\": {\"gridcolor\": \"white\", \"linecolor\": \"white\", \"ticks\": \"\"}}, \"scene\": {\"xaxis\": {\"backgroundcolor\": \"#E5ECF6\", \"gridcolor\": \"white\", \"gridwidth\": 2, \"linecolor\": \"white\", \"showbackground\": true, \"ticks\": \"\", \"zerolinecolor\": \"white\"}, \"yaxis\": {\"backgroundcolor\": \"#E5ECF6\", \"gridcolor\": \"white\", \"gridwidth\": 2, \"linecolor\": \"white\", \"showbackground\": true, \"ticks\": \"\", \"zerolinecolor\": \"white\"}, \"zaxis\": {\"backgroundcolor\": \"#E5ECF6\", \"gridcolor\": \"white\", \"gridwidth\": 2, \"linecolor\": \"white\", \"showbackground\": true, \"ticks\": \"\", \"zerolinecolor\": \"white\"}}, \"shapedefaults\": {\"line\": {\"color\": \"#2a3f5f\"}}, \"ternary\": {\"aaxis\": {\"gridcolor\": \"white\", \"linecolor\": \"white\", \"ticks\": \"\"}, \"baxis\": {\"gridcolor\": \"white\", \"linecolor\": \"white\", \"ticks\": \"\"}, \"bgcolor\": \"#E5ECF6\", \"caxis\": {\"gridcolor\": \"white\", \"linecolor\": \"white\", \"ticks\": \"\"}}, \"title\": {\"x\": 0.05}, \"xaxis\": {\"automargin\": true, \"gridcolor\": \"white\", \"linecolor\": \"white\", \"ticks\": \"\", \"title\": {\"standoff\": 15}, \"zerolinecolor\": \"white\", \"zerolinewidth\": 2}, \"yaxis\": {\"automargin\": true, \"gridcolor\": \"white\", \"linecolor\": \"white\", \"ticks\": \"\", \"title\": {\"standoff\": 15}, \"zerolinecolor\": \"white\", \"zerolinewidth\": 2}}}, \"title\": {\"text\": \"Most-Starred Python Projects on Github\"}, \"xaxis\": {\"title\": {\"text\": \"Repository\"}}, \"yaxis\": {\"title\": {\"text\": \"Stars\"}}},\n",
              "                        {\"responsive\": true}\n",
              "                    ).then(function(){\n",
              "                            \n",
              "var gd = document.getElementById('e04f1ccd-ba1a-4f61-b861-1ba1db1e559e');\n",
              "var x = new MutationObserver(function (mutations, observer) {{\n",
              "        var display = window.getComputedStyle(gd).display;\n",
              "        if (!display || display === 'none') {{\n",
              "            console.log([gd, 'removed!']);\n",
              "            Plotly.purge(gd);\n",
              "            observer.disconnect();\n",
              "        }}\n",
              "}});\n",
              "\n",
              "// Listen for the removal of the full notebook cells\n",
              "var notebookContainer = gd.closest('#notebook-container');\n",
              "if (notebookContainer) {{\n",
              "    x.observe(notebookContainer, {childList: true});\n",
              "}}\n",
              "\n",
              "// Listen for the clearing of the current output cell\n",
              "var outputEl = gd.closest('.output');\n",
              "if (outputEl) {{\n",
              "    x.observe(outputEl, {childList: true});\n",
              "}}\n",
              "\n",
              "                        })\n",
              "                };\n",
              "                \n",
              "            </script>\n",
              "        </div>\n",
              "</body>\n",
              "</html>"
            ]
          },
          "metadata": {
            "tags": []
          }
        }
      ]
    },
    {
      "cell_type": "code",
      "metadata": {
        "id": "dY1DBP8BxDGa"
      },
      "source": [
        "###"
      ],
      "execution_count": null,
      "outputs": []
    }
  ]
}