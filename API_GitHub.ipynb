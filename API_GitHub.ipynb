{
  "nbformat": 4,
  "nbformat_minor": 0,
  "metadata": {
    "colab": {
      "name": "API_GitHub.ipynb",
      "provenance": [],
      "collapsed_sections": [],
      "authorship_tag": "ABX9TyN8bm4BCzRDNOJtZrofQCG5",
      "include_colab_link": true
    },
    "kernelspec": {
      "name": "python3",
      "display_name": "Python 3"
    }
  },
  "cells": [
    {
      "cell_type": "markdown",
      "metadata": {
        "id": "view-in-github",
        "colab_type": "text"
      },
      "source": [
        "<a href=\"https://colab.research.google.com/github/chrisvidetto1/Portfolio/blob/master/API_GitHub.ipynb\" target=\"_parent\"><img src=\"https://colab.research.google.com/assets/colab-badge.svg\" alt=\"Open In Colab\"/></a>"
      ]
    },
    {
      "cell_type": "markdown",
      "metadata": {
        "id": "oGM1lhM1juJ2"
      },
      "source": [
        "## Simple Guide to Working with API's\n",
        "##### By: Chris Videtto\n",
        "##### Based on: 2nd Edition Python Crash Course"
      ]
    },
    {
      "cell_type": "markdown",
      "metadata": {
        "id": "Wx-aAKHcj_bX"
      },
      "source": [
        "### Requesting Data Using an API Call"
      ]
    },
    {
      "cell_type": "code",
      "metadata": {
        "id": "pMmW0MyBdIu_"
      },
      "source": [
        "# Import the packages first\n",
        "import requests\n",
        "import pandas as pd"
      ],
      "execution_count": 52,
      "outputs": []
    },
    {
      "cell_type": "code",
      "metadata": {
        "id": "mhl06_fIdAFr",
        "outputId": "5f515766-492f-4015-d1e9-4661ec43979c",
        "colab": {
          "base_uri": "https://localhost:8080/",
          "height": 34
        }
      },
      "source": [
        "# Make an API call and store the response in a variable\n",
        "\n",
        "url = 'https://api.github.com/search/repositories?q=language:python&sort=stars'\n",
        "headers = {'Accept': 'application/vnd.github.v3+json'}\n",
        "r = requests.get(url, headers=headers)\n",
        "\n",
        "#Print the value of Status Code to make sure the call was successful\n",
        "print(f\"Status code: {r.status_code}\")"
      ],
      "execution_count": 6,
      "outputs": [
        {
          "output_type": "stream",
          "text": [
            "Status code: 200\n"
          ],
          "name": "stdout"
        }
      ]
    },
    {
      "cell_type": "code",
      "metadata": {
        "id": "dbGtVGYOdLtL"
      },
      "source": [
        "# View the API response as a .json\n",
        "response_dict = r.json()\n",
        "response_dict"
      ],
      "execution_count": null,
      "outputs": []
    },
    {
      "cell_type": "markdown",
      "metadata": {
        "id": "ToIDEba1kfhR"
      },
      "source": [
        "### Working with the Response Dictionary"
      ]
    },
    {
      "cell_type": "code",
      "metadata": {
        "id": "Vd6ebQl6dPMv",
        "outputId": "74f19001-d7c3-4cda-d077-745b91389f63",
        "colab": {
          "base_uri": "https://localhost:8080/",
          "height": 51
        }
      },
      "source": [
        "# Examine results\n",
        "print(response_dict.keys())\n",
        "\n",
        "print(f\"Total repositories: {response_dict['total_count']}\")"
      ],
      "execution_count": 8,
      "outputs": [
        {
          "output_type": "stream",
          "text": [
            "dict_keys(['total_count', 'incomplete_results', 'items'])\n",
            "Total repositories: 5488676\n"
          ],
          "name": "stdout"
        }
      ]
    },
    {
      "cell_type": "code",
      "metadata": {
        "id": "iUMU6YqBdYms",
        "outputId": "a5939f00-073b-466e-d7c7-959bc1de0683",
        "colab": {
          "base_uri": "https://localhost:8080/",
          "height": 34
        }
      },
      "source": [
        "# Explore information about the repositories \n",
        "repo_dicts = response_dict['items']\n",
        "print(f\"Repositories returned: {len(repo_dicts)}\")"
      ],
      "execution_count": 9,
      "outputs": [
        {
          "output_type": "stream",
          "text": [
            "Repositories returned: 30\n"
          ],
          "name": "stdout"
        }
      ]
    },
    {
      "cell_type": "code",
      "metadata": {
        "id": "hL2XMDkDdh2U",
        "outputId": "5ed3a1b5-10d3-4ee3-f0cb-583b951a058b",
        "colab": {
          "base_uri": "https://localhost:8080/",
          "height": 1000
        }
      },
      "source": [
        "# Examine the first repository\n",
        "repo_dict = repo_dicts[0]\n",
        "print(f\"\\nKeys: {len(repo_dict)}\")\n",
        "for key in sorted(repo_dict.keys()):\n",
        "    print(key)"
      ],
      "execution_count": null,
      "outputs": [
        {
          "output_type": "stream",
          "text": [
            "\n",
            "Keys: 74\n",
            "archive_url\n",
            "archived\n",
            "assignees_url\n",
            "blobs_url\n",
            "branches_url\n",
            "clone_url\n",
            "collaborators_url\n",
            "comments_url\n",
            "commits_url\n",
            "compare_url\n",
            "contents_url\n",
            "contributors_url\n",
            "created_at\n",
            "default_branch\n",
            "deployments_url\n",
            "description\n",
            "disabled\n",
            "downloads_url\n",
            "events_url\n",
            "fork\n",
            "forks\n",
            "forks_count\n",
            "forks_url\n",
            "full_name\n",
            "git_commits_url\n",
            "git_refs_url\n",
            "git_tags_url\n",
            "git_url\n",
            "has_downloads\n",
            "has_issues\n",
            "has_pages\n",
            "has_projects\n",
            "has_wiki\n",
            "homepage\n",
            "hooks_url\n",
            "html_url\n",
            "id\n",
            "issue_comment_url\n",
            "issue_events_url\n",
            "issues_url\n",
            "keys_url\n",
            "labels_url\n",
            "language\n",
            "languages_url\n",
            "license\n",
            "merges_url\n",
            "milestones_url\n",
            "mirror_url\n",
            "name\n",
            "node_id\n",
            "notifications_url\n",
            "open_issues\n",
            "open_issues_count\n",
            "owner\n",
            "private\n",
            "pulls_url\n",
            "pushed_at\n",
            "releases_url\n",
            "score\n",
            "size\n",
            "ssh_url\n",
            "stargazers_count\n",
            "stargazers_url\n",
            "statuses_url\n",
            "subscribers_url\n",
            "subscription_url\n",
            "svn_url\n",
            "tags_url\n",
            "teams_url\n",
            "trees_url\n",
            "updated_at\n",
            "url\n",
            "watchers\n",
            "watchers_count\n"
          ],
          "name": "stdout"
        }
      ]
    },
    {
      "cell_type": "code",
      "metadata": {
        "id": "BJJpXnC1QmKC"
      },
      "source": [
        "repo_dicts"
      ],
      "execution_count": null,
      "outputs": []
    },
    {
      "cell_type": "code",
      "metadata": {
        "id": "9DjCiBN9aEmx",
        "outputId": "6a2b8d33-26fb-4905-dde4-b3e445cd0771",
        "colab": {
          "base_uri": "https://localhost:8080/",
          "height": 816
        }
      },
      "source": [
        "### Lets create a function to print out information for the top repositories\n",
        "repo_dicts = response_dict['items']\n",
        "print(f\"Total Repositories returned: {len(repo_dicts)}\")\n",
        "repo2 = repo_dicts[0:5]\n",
        "print(f\"Sliced Repositories returned: {len(repo2)}\")\n",
        "for repo_dict in repo2:\n",
        "      print(\"\\nSelected information about each repository:\")\n",
        "      print(f\"Name: {repo_dict['name']}\")\n",
        "      print(f\"Owner: {repo_dict['owner']['login']}\")\n",
        "      print(f\"Stars: {repo_dict['stargazers_count']}\")\n",
        "      print(f\"Repository: {repo_dict['html_url']}\")\n",
        "      print(f\"Created: {repo_dict['created_at']}\")\n",
        "      print(f\"Updated: {repo_dict['updated_at']}\")\n",
        "      print(f\"Description: {repo_dict['description']}\")"
      ],
      "execution_count": 51,
      "outputs": [
        {
          "output_type": "stream",
          "text": [
            "Total Repositories returned: 30\n",
            "Sliced Repositories returned: 5\n",
            "\n",
            "Selected information about each repository:\n",
            "Name: system-design-primer\n",
            "Owner: donnemartin\n",
            "Stars: 108169\n",
            "Repository: https://github.com/donnemartin/system-design-primer\n",
            "Created: 2017-02-26T16:15:28Z\n",
            "Updated: 2020-09-30T14:12:46Z\n",
            "Description: Learn how to design large-scale systems. Prep for the system design interview.  Includes Anki flashcards.\n",
            "\n",
            "Selected information about each repository:\n",
            "Name: awesome-python\n",
            "Owner: vinta\n",
            "Stars: 87215\n",
            "Repository: https://github.com/vinta/awesome-python\n",
            "Created: 2014-06-27T21:00:06Z\n",
            "Updated: 2020-09-30T14:27:11Z\n",
            "Description: A curated list of awesome Python frameworks, libraries, software and resources\n",
            "\n",
            "Selected information about each repository:\n",
            "Name: Python\n",
            "Owner: TheAlgorithms\n",
            "Stars: 86247\n",
            "Repository: https://github.com/TheAlgorithms/Python\n",
            "Created: 2016-07-16T09:44:01Z\n",
            "Updated: 2020-09-30T14:17:21Z\n",
            "Description: All Algorithms implemented in Python\n",
            "\n",
            "Selected information about each repository:\n",
            "Name: youtube-dl\n",
            "Owner: ytdl-org\n",
            "Stars: 71410\n",
            "Repository: https://github.com/ytdl-org/youtube-dl\n",
            "Created: 2010-10-31T14:35:07Z\n",
            "Updated: 2020-09-30T13:55:33Z\n",
            "Description: Command-line program to download videos from YouTube.com and other video sites\n",
            "\n",
            "Selected information about each repository:\n",
            "Name: models\n",
            "Owner: tensorflow\n",
            "Stars: 66454\n",
            "Repository: https://github.com/tensorflow/models\n",
            "Created: 2016-02-05T01:15:20Z\n",
            "Updated: 2020-09-30T14:25:20Z\n",
            "Description: Models and examples built with TensorFlow\n"
          ],
          "name": "stdout"
        }
      ]
    },
    {
      "cell_type": "markdown",
      "metadata": {
        "id": "OkA6jb6ymKMT"
      },
      "source": [
        "### Monitoring API Rate Limits"
      ]
    },
    {
      "cell_type": "code",
      "metadata": {
        "id": "kIOBK-l3jl3J",
        "outputId": "2eb994c7-09e8-40e9-eabd-f9f372f84b49",
        "colab": {
          "base_uri": "https://localhost:8080/",
          "height": 204
        }
      },
      "source": [
        "# Create an API call and store the response\n",
        "\n",
        "url = 'https://api.github.com/rate_limit'\n",
        "headers = {'Accept': 'application/vnd.github.v3+json'}\n",
        "r = requests.get(url, headers=headers)\n",
        "\n",
        "# View the API response as a .json \n",
        "API_rate_limits = r.json()\n",
        "API_rate_limits"
      ],
      "execution_count": null,
      "outputs": [
        {
          "output_type": "execute_result",
          "data": {
            "text/plain": [
              "{'rate': {'limit': 60, 'remaining': 60, 'reset': 1601425260, 'used': 0},\n",
              " 'resources': {'core': {'limit': 60,\n",
              "   'remaining': 60,\n",
              "   'reset': 1601425260,\n",
              "   'used': 0},\n",
              "  'graphql': {'limit': 0, 'remaining': 0, 'reset': 1601425260, 'used': 0},\n",
              "  'integration_manifest': {'limit': 5000,\n",
              "   'remaining': 5000,\n",
              "   'reset': 1601425260,\n",
              "   'used': 0},\n",
              "  'search': {'limit': 10, 'remaining': 9, 'reset': 1601421719, 'used': 1}}}"
            ]
          },
          "metadata": {
            "tags": []
          },
          "execution_count": 8
        }
      ]
    },
    {
      "cell_type": "markdown",
      "metadata": {
        "id": "RlFNZJM-oJwG"
      },
      "source": [
        "### Visualizing Repositories Using Plotly"
      ]
    },
    {
      "cell_type": "code",
      "metadata": {
        "id": "JkghiQVUoSEG"
      },
      "source": [
        "from plotly.graph_objs import Bar\n",
        "from plotly import offline"
      ],
      "execution_count": null,
      "outputs": []
    },
    {
      "cell_type": "code",
      "metadata": {
        "id": "lx3tMu9GNWvd",
        "outputId": "1439656a-009d-4674-ce35-5e0b9a5164f3",
        "colab": {
          "base_uri": "https://localhost:8080/",
          "height": 34
        }
      },
      "source": [
        "# Make an API call and store the response in a variable\n",
        "\n",
        "url = 'https://api.github.com/search/repositories?q=language:python&sort=stars'\n",
        "headers = {'Accept': 'application/vnd.github.v3+json'}\n",
        "r = requests.get(url, headers=headers)\n",
        "\n",
        "#Print the value of Status Code to make sure the call was successful\n",
        "print(f\"Status code: {r.status_code}\")"
      ],
      "execution_count": 167,
      "outputs": [
        {
          "output_type": "stream",
          "text": [
            "Status code: 200\n"
          ],
          "name": "stdout"
        }
      ]
    },
    {
      "cell_type": "code",
      "metadata": {
        "id": "1gJYaHSWoxHm"
      },
      "source": [
        "# Process results from initial API call\n",
        "response_dict = r.json()\n",
        "repo_dicts = response_dict['items']\n",
        "repo_names, stars = [], []\n",
        "for repo_dict in repo_dicts:\n",
        "  repo_names.append(repo_dict['name'])\n",
        "  stars.append(repo_dict['stargazers_count'])"
      ],
      "execution_count": 168,
      "outputs": []
    },
    {
      "cell_type": "code",
      "metadata": {
        "id": "eutock2boTmK"
      },
      "source": [
        ""
      ],
      "execution_count": null,
      "outputs": []
    },
    {
      "cell_type": "code",
      "metadata": {
        "id": "ZkO2nWDxrxiU",
        "outputId": "2c53ec59-7178-4eb2-8e73-b94bfaa7ca5e",
        "colab": {
          "base_uri": "https://localhost:8080/",
          "height": 542
        }
      },
      "source": [
        "# Make visualization\n",
        "\n",
        "data = [{\n",
        "    'type' : 'bar',\n",
        "    'x' : repo_names,\n",
        "    'y' : stars,\n",
        "}]\n",
        "\n",
        "my_layout = {\n",
        "    'title' : 'Most-Starred Python Projects on Github',\n",
        "    'xaxis' : {'title': 'Repository'},\n",
        "    'yaxis' : {'title': 'Stars'},\n",
        "}\n",
        "\n",
        "fig = {'data': data, 'layout': my_layout}\n",
        "offline.plot(fig, filename='python_repos.html')\n",
        "import plotly.io as pio\n",
        "pio.show(fig)"
      ],
      "execution_count": null,
      "outputs": [
        {
          "output_type": "display_data",
          "data": {
            "text/html": [
              "<html>\n",
              "<head><meta charset=\"utf-8\" /></head>\n",
              "<body>\n",
              "    <div>\n",
              "            <script src=\"https://cdnjs.cloudflare.com/ajax/libs/mathjax/2.7.5/MathJax.js?config=TeX-AMS-MML_SVG\"></script><script type=\"text/javascript\">if (window.MathJax) {MathJax.Hub.Config({SVG: {font: \"STIX-Web\"}});}</script>\n",
              "                <script type=\"text/javascript\">window.PlotlyConfig = {MathJaxConfig: 'local'};</script>\n",
              "        <script src=\"https://cdn.plot.ly/plotly-latest.min.js\"></script>    \n",
              "            <div id=\"ba1ecdb0-e2ce-428c-9168-7081dccbb1bb\" class=\"plotly-graph-div\" style=\"height:525px; width:100%;\"></div>\n",
              "            <script type=\"text/javascript\">\n",
              "                \n",
              "                    window.PLOTLYENV=window.PLOTLYENV || {};\n",
              "                    \n",
              "                if (document.getElementById(\"ba1ecdb0-e2ce-428c-9168-7081dccbb1bb\")) {\n",
              "                    Plotly.newPlot(\n",
              "                        'ba1ecdb0-e2ce-428c-9168-7081dccbb1bb',\n",
              "                        [{\"type\": \"bar\", \"x\": [\"system-design-primer\", \"public-apis\", \"awesome-python\", \"Python\", \"youtube-dl\", \"models\", \"thefuck\", \"flask\", \"awesome-machine-learning\", \"ansible\", \"scikit-learn\", \"scrapy\", \"big-list-of-naughty-strings\", \"core\", \"you-get\", \"transformers\", \"cpython\", \"faceswap\", \"XX-Net\", \"incubator-superset\", \"12306\", \"CppCoreGuidelines\", \"certbot\", \"AiLearning\", \"pandas\", \"python-patterns\", \"manim\", \"bert\", \"funNLP\", \"Detectron\"], \"y\": [108028, 97138, 87193, 86225, 71388, 66436, 55699, 52213, 46784, 44914, 42448, 38389, 38009, 35853, 35125, 34350, 33731, 32517, 30343, 30239, 28739, 28627, 27215, 27120, 26708, 25955, 25623, 25039, 24846, 23699]}],\n",
              "                        {\"template\": {\"data\": {\"bar\": [{\"error_x\": {\"color\": \"#2a3f5f\"}, \"error_y\": {\"color\": \"#2a3f5f\"}, \"marker\": {\"line\": {\"color\": \"#E5ECF6\", \"width\": 0.5}}, \"type\": \"bar\"}], \"barpolar\": [{\"marker\": {\"line\": {\"color\": \"#E5ECF6\", \"width\": 0.5}}, \"type\": \"barpolar\"}], \"carpet\": [{\"aaxis\": {\"endlinecolor\": \"#2a3f5f\", \"gridcolor\": \"white\", \"linecolor\": \"white\", \"minorgridcolor\": \"white\", \"startlinecolor\": \"#2a3f5f\"}, \"baxis\": {\"endlinecolor\": \"#2a3f5f\", \"gridcolor\": \"white\", \"linecolor\": \"white\", \"minorgridcolor\": \"white\", \"startlinecolor\": \"#2a3f5f\"}, \"type\": \"carpet\"}], \"choropleth\": [{\"colorbar\": {\"outlinewidth\": 0, \"ticks\": \"\"}, \"type\": \"choropleth\"}], \"contour\": [{\"colorbar\": {\"outlinewidth\": 0, \"ticks\": \"\"}, \"colorscale\": [[0.0, \"#0d0887\"], [0.1111111111111111, \"#46039f\"], [0.2222222222222222, \"#7201a8\"], [0.3333333333333333, \"#9c179e\"], [0.4444444444444444, \"#bd3786\"], [0.5555555555555556, \"#d8576b\"], [0.6666666666666666, \"#ed7953\"], [0.7777777777777778, \"#fb9f3a\"], [0.8888888888888888, \"#fdca26\"], [1.0, \"#f0f921\"]], \"type\": \"contour\"}], \"contourcarpet\": [{\"colorbar\": {\"outlinewidth\": 0, \"ticks\": \"\"}, \"type\": \"contourcarpet\"}], \"heatmap\": [{\"colorbar\": {\"outlinewidth\": 0, \"ticks\": \"\"}, \"colorscale\": [[0.0, \"#0d0887\"], [0.1111111111111111, \"#46039f\"], [0.2222222222222222, \"#7201a8\"], [0.3333333333333333, \"#9c179e\"], [0.4444444444444444, \"#bd3786\"], [0.5555555555555556, \"#d8576b\"], [0.6666666666666666, \"#ed7953\"], [0.7777777777777778, \"#fb9f3a\"], [0.8888888888888888, \"#fdca26\"], [1.0, \"#f0f921\"]], \"type\": \"heatmap\"}], \"heatmapgl\": [{\"colorbar\": {\"outlinewidth\": 0, \"ticks\": \"\"}, \"colorscale\": [[0.0, \"#0d0887\"], [0.1111111111111111, \"#46039f\"], [0.2222222222222222, \"#7201a8\"], [0.3333333333333333, \"#9c179e\"], [0.4444444444444444, \"#bd3786\"], [0.5555555555555556, \"#d8576b\"], [0.6666666666666666, \"#ed7953\"], [0.7777777777777778, \"#fb9f3a\"], [0.8888888888888888, \"#fdca26\"], [1.0, \"#f0f921\"]], \"type\": \"heatmapgl\"}], \"histogram\": [{\"marker\": {\"colorbar\": {\"outlinewidth\": 0, \"ticks\": \"\"}}, \"type\": \"histogram\"}], \"histogram2d\": [{\"colorbar\": {\"outlinewidth\": 0, \"ticks\": \"\"}, \"colorscale\": [[0.0, \"#0d0887\"], [0.1111111111111111, \"#46039f\"], [0.2222222222222222, \"#7201a8\"], [0.3333333333333333, \"#9c179e\"], [0.4444444444444444, \"#bd3786\"], [0.5555555555555556, \"#d8576b\"], [0.6666666666666666, \"#ed7953\"], [0.7777777777777778, \"#fb9f3a\"], [0.8888888888888888, \"#fdca26\"], [1.0, \"#f0f921\"]], \"type\": \"histogram2d\"}], \"histogram2dcontour\": [{\"colorbar\": {\"outlinewidth\": 0, \"ticks\": \"\"}, \"colorscale\": [[0.0, \"#0d0887\"], [0.1111111111111111, \"#46039f\"], [0.2222222222222222, \"#7201a8\"], [0.3333333333333333, \"#9c179e\"], [0.4444444444444444, \"#bd3786\"], [0.5555555555555556, \"#d8576b\"], [0.6666666666666666, \"#ed7953\"], [0.7777777777777778, \"#fb9f3a\"], [0.8888888888888888, \"#fdca26\"], [1.0, \"#f0f921\"]], \"type\": \"histogram2dcontour\"}], \"mesh3d\": [{\"colorbar\": {\"outlinewidth\": 0, \"ticks\": \"\"}, \"type\": \"mesh3d\"}], \"parcoords\": [{\"line\": {\"colorbar\": {\"outlinewidth\": 0, \"ticks\": \"\"}}, \"type\": \"parcoords\"}], \"pie\": [{\"automargin\": true, \"type\": \"pie\"}], \"scatter\": [{\"marker\": {\"colorbar\": {\"outlinewidth\": 0, \"ticks\": \"\"}}, \"type\": \"scatter\"}], \"scatter3d\": [{\"line\": {\"colorbar\": {\"outlinewidth\": 0, \"ticks\": \"\"}}, \"marker\": {\"colorbar\": {\"outlinewidth\": 0, \"ticks\": \"\"}}, \"type\": \"scatter3d\"}], \"scattercarpet\": [{\"marker\": {\"colorbar\": {\"outlinewidth\": 0, \"ticks\": \"\"}}, \"type\": \"scattercarpet\"}], \"scattergeo\": [{\"marker\": {\"colorbar\": {\"outlinewidth\": 0, \"ticks\": \"\"}}, \"type\": \"scattergeo\"}], \"scattergl\": [{\"marker\": {\"colorbar\": {\"outlinewidth\": 0, \"ticks\": \"\"}}, \"type\": \"scattergl\"}], \"scattermapbox\": [{\"marker\": {\"colorbar\": {\"outlinewidth\": 0, \"ticks\": \"\"}}, \"type\": \"scattermapbox\"}], \"scatterpolar\": [{\"marker\": {\"colorbar\": {\"outlinewidth\": 0, \"ticks\": \"\"}}, \"type\": \"scatterpolar\"}], \"scatterpolargl\": [{\"marker\": {\"colorbar\": {\"outlinewidth\": 0, \"ticks\": \"\"}}, \"type\": \"scatterpolargl\"}], \"scatterternary\": [{\"marker\": {\"colorbar\": {\"outlinewidth\": 0, \"ticks\": \"\"}}, \"type\": \"scatterternary\"}], \"surface\": [{\"colorbar\": {\"outlinewidth\": 0, \"ticks\": \"\"}, \"colorscale\": [[0.0, \"#0d0887\"], [0.1111111111111111, \"#46039f\"], [0.2222222222222222, \"#7201a8\"], [0.3333333333333333, \"#9c179e\"], [0.4444444444444444, \"#bd3786\"], [0.5555555555555556, \"#d8576b\"], [0.6666666666666666, \"#ed7953\"], [0.7777777777777778, \"#fb9f3a\"], [0.8888888888888888, \"#fdca26\"], [1.0, \"#f0f921\"]], \"type\": \"surface\"}], \"table\": [{\"cells\": {\"fill\": {\"color\": \"#EBF0F8\"}, \"line\": {\"color\": \"white\"}}, \"header\": {\"fill\": {\"color\": \"#C8D4E3\"}, \"line\": {\"color\": \"white\"}}, \"type\": \"table\"}]}, \"layout\": {\"annotationdefaults\": {\"arrowcolor\": \"#2a3f5f\", \"arrowhead\": 0, \"arrowwidth\": 1}, \"coloraxis\": {\"colorbar\": {\"outlinewidth\": 0, \"ticks\": \"\"}}, \"colorscale\": {\"diverging\": [[0, \"#8e0152\"], [0.1, \"#c51b7d\"], [0.2, \"#de77ae\"], [0.3, \"#f1b6da\"], [0.4, \"#fde0ef\"], [0.5, \"#f7f7f7\"], [0.6, \"#e6f5d0\"], [0.7, \"#b8e186\"], [0.8, \"#7fbc41\"], [0.9, \"#4d9221\"], [1, \"#276419\"]], \"sequential\": [[0.0, \"#0d0887\"], [0.1111111111111111, \"#46039f\"], [0.2222222222222222, \"#7201a8\"], [0.3333333333333333, \"#9c179e\"], [0.4444444444444444, \"#bd3786\"], [0.5555555555555556, \"#d8576b\"], [0.6666666666666666, \"#ed7953\"], [0.7777777777777778, \"#fb9f3a\"], [0.8888888888888888, \"#fdca26\"], [1.0, \"#f0f921\"]], \"sequentialminus\": [[0.0, \"#0d0887\"], [0.1111111111111111, \"#46039f\"], [0.2222222222222222, \"#7201a8\"], [0.3333333333333333, \"#9c179e\"], [0.4444444444444444, \"#bd3786\"], [0.5555555555555556, \"#d8576b\"], [0.6666666666666666, \"#ed7953\"], [0.7777777777777778, \"#fb9f3a\"], [0.8888888888888888, \"#fdca26\"], [1.0, \"#f0f921\"]]}, \"colorway\": [\"#636efa\", \"#EF553B\", \"#00cc96\", \"#ab63fa\", \"#FFA15A\", \"#19d3f3\", \"#FF6692\", \"#B6E880\", \"#FF97FF\", \"#FECB52\"], \"font\": {\"color\": \"#2a3f5f\"}, \"geo\": {\"bgcolor\": \"white\", \"lakecolor\": \"white\", \"landcolor\": \"#E5ECF6\", \"showlakes\": true, \"showland\": true, \"subunitcolor\": \"white\"}, \"hoverlabel\": {\"align\": \"left\"}, \"hovermode\": \"closest\", \"mapbox\": {\"style\": \"light\"}, \"paper_bgcolor\": \"white\", \"plot_bgcolor\": \"#E5ECF6\", \"polar\": {\"angularaxis\": {\"gridcolor\": \"white\", \"linecolor\": \"white\", \"ticks\": \"\"}, \"bgcolor\": \"#E5ECF6\", \"radialaxis\": {\"gridcolor\": \"white\", \"linecolor\": \"white\", \"ticks\": \"\"}}, \"scene\": {\"xaxis\": {\"backgroundcolor\": \"#E5ECF6\", \"gridcolor\": \"white\", \"gridwidth\": 2, \"linecolor\": \"white\", \"showbackground\": true, \"ticks\": \"\", \"zerolinecolor\": \"white\"}, \"yaxis\": {\"backgroundcolor\": \"#E5ECF6\", \"gridcolor\": \"white\", \"gridwidth\": 2, \"linecolor\": \"white\", \"showbackground\": true, \"ticks\": \"\", \"zerolinecolor\": \"white\"}, \"zaxis\": {\"backgroundcolor\": \"#E5ECF6\", \"gridcolor\": \"white\", \"gridwidth\": 2, \"linecolor\": \"white\", \"showbackground\": true, \"ticks\": \"\", \"zerolinecolor\": \"white\"}}, \"shapedefaults\": {\"line\": {\"color\": \"#2a3f5f\"}}, \"ternary\": {\"aaxis\": {\"gridcolor\": \"white\", \"linecolor\": \"white\", \"ticks\": \"\"}, \"baxis\": {\"gridcolor\": \"white\", \"linecolor\": \"white\", \"ticks\": \"\"}, \"bgcolor\": \"#E5ECF6\", \"caxis\": {\"gridcolor\": \"white\", \"linecolor\": \"white\", \"ticks\": \"\"}}, \"title\": {\"x\": 0.05}, \"xaxis\": {\"automargin\": true, \"gridcolor\": \"white\", \"linecolor\": \"white\", \"ticks\": \"\", \"title\": {\"standoff\": 15}, \"zerolinecolor\": \"white\", \"zerolinewidth\": 2}, \"yaxis\": {\"automargin\": true, \"gridcolor\": \"white\", \"linecolor\": \"white\", \"ticks\": \"\", \"title\": {\"standoff\": 15}, \"zerolinecolor\": \"white\", \"zerolinewidth\": 2}}}, \"title\": {\"text\": \"Most-Starred Python Projects on Github\"}, \"xaxis\": {\"title\": {\"text\": \"Repository\"}}, \"yaxis\": {\"title\": {\"text\": \"Stars\"}}},\n",
              "                        {\"responsive\": true}\n",
              "                    ).then(function(){\n",
              "                            \n",
              "var gd = document.getElementById('ba1ecdb0-e2ce-428c-9168-7081dccbb1bb');\n",
              "var x = new MutationObserver(function (mutations, observer) {{\n",
              "        var display = window.getComputedStyle(gd).display;\n",
              "        if (!display || display === 'none') {{\n",
              "            console.log([gd, 'removed!']);\n",
              "            Plotly.purge(gd);\n",
              "            observer.disconnect();\n",
              "        }}\n",
              "}});\n",
              "\n",
              "// Listen for the removal of the full notebook cells\n",
              "var notebookContainer = gd.closest('#notebook-container');\n",
              "if (notebookContainer) {{\n",
              "    x.observe(notebookContainer, {childList: true});\n",
              "}}\n",
              "\n",
              "// Listen for the clearing of the current output cell\n",
              "var outputEl = gd.closest('.output');\n",
              "if (outputEl) {{\n",
              "    x.observe(outputEl, {childList: true});\n",
              "}}\n",
              "\n",
              "                        })\n",
              "                };\n",
              "                \n",
              "            </script>\n",
              "        </div>\n",
              "</body>\n",
              "</html>"
            ]
          },
          "metadata": {
            "tags": []
          }
        }
      ]
    },
    {
      "cell_type": "code",
      "metadata": {
        "id": "dY1DBP8BxDGa"
      },
      "source": [
        "### Different Visualization\n",
        "temp = px.bar(response_dict, x=repo_names, y=stars, title=\"Most-Starred Repositories on GitHub\")\n",
        "temp.update_layout(yaxis=dict(range=[0,90000]))\n",
        "temp"
      ],
      "execution_count": null,
      "outputs": []
    },
    {
      "cell_type": "code",
      "metadata": {
        "id": "URvHjnl543G0"
      },
      "source": [
        "New = {}\n",
        "for name in repo_names:\n",
        "  for number in stars:\n",
        "    New[name] = number\n",
        "    stars.remove(number)\n",
        "    break"
      ],
      "execution_count": 148,
      "outputs": []
    },
    {
      "cell_type": "code",
      "metadata": {
        "id": "oH_VNKIW-zqs"
      },
      "source": [
        "df=pd.DataFrame(list(zip(repo_names, stars)),\n",
        "                columns = ['Repo Name', 'Stars'])\n",
        "df"
      ],
      "execution_count": null,
      "outputs": []
    },
    {
      "cell_type": "code",
      "metadata": {
        "id": "rhPbJSeNKaxZ",
        "outputId": "60bdc28b-cc9c-4804-c04a-835b3383d514",
        "colab": {
          "base_uri": "https://localhost:8080/",
          "height": 617
        }
      },
      "source": [
        "import matplotlib.pyplot as plt\n",
        "fig = plt.figure(figsize=[16, 4.8])\n",
        "ax = fig.add_axes([0,0,1,1])\n",
        "x = repo_names\n",
        "y = stars\n",
        "ax.bar(x, y)\n",
        "plt.xticks(rotation=80)\n",
        "plt.xlabel('Repository Name')\n",
        "plt.ylabel('Total Stars')\n",
        "plt.title('Most Starred/Popular Repositories on GitHub')\n",
        "plt.show()"
      ],
      "execution_count": 185,
      "outputs": [
        {
          "output_type": "display_data",
          "data": {
            "image/png": "[encoded data removed]",
            "text/plain": [
              "<Figure size 1152x345.6 with 1 Axes>"
            ]
          },
          "metadata": {
            "tags": [],
            "needs_background": "light"
          }
        }
      ]
    }
  ]
}