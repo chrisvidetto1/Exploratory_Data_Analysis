{
  "nbformat": 4,
  "nbformat_minor": 0,
  "metadata": {
    "colab": {
      "name": "API_GitHub.ipynb",
      "provenance": [],
      "collapsed_sections": [],
      "authorship_tag": "ABX9TyM+9sgdGIHz0hRwYSV9r3hp",
      "include_colab_link": true
    },
    "kernelspec": {
      "name": "python3",
      "display_name": "Python 3"
    }
  },
  "cells": [
    {
      "cell_type": "markdown",
      "metadata": {
        "id": "view-in-github",
        "colab_type": "text"
      },
      "source": [
        "<a href=\"https://colab.research.google.com/github/chrisvidetto1/Portfolio/blob/master/API_GitHub.ipynb\" target=\"_parent\"><img src=\"https://colab.research.google.com/assets/colab-badge.svg\" alt=\"Open In Colab\"/></a>"
      ]
    },
    {
      "cell_type": "markdown",
      "metadata": {
        "id": "oGM1lhM1juJ2"
      },
      "source": [
        "## Simple Guide to Working with API's\n",
        "##### By: Chris Videtto\n",
        "##### Based on: 2nd Edition Python Crash Course"
      ]
    },
    {
      "cell_type": "markdown",
      "metadata": {
        "id": "Wx-aAKHcj_bX"
      },
      "source": [
        "### Requesting Data Using an API Call"
      ]
    },
    {
      "cell_type": "code",
      "metadata": {
        "id": "pMmW0MyBdIu_"
      },
      "source": [
        "# Import the package first\n",
        "import requests"
      ],
      "execution_count": null,
      "outputs": []
    },
    {
      "cell_type": "code",
      "metadata": {
        "id": "mhl06_fIdAFr",
        "outputId": "9c88ec1a-dc7a-4429-e2f7-4f63fad2ff6f",
        "colab": {
          "base_uri": "https://localhost:8080/",
          "height": 34
        }
      },
      "source": [
        "# Make an API call and store the response in a variable\n",
        "\n",
        "url = 'https://api.github.com/search/repositories?q=language:python&sort=stars'\n",
        "headers = {'Accept': 'application/vnd.github.v3+json'}\n",
        "r = requests.get(url, headers=headers)\n",
        "\n",
        "#Print the value of Status Code to make sure the call was successful\n",
        "print(f\"Status code: {r.status_code}\")"
      ],
      "execution_count": null,
      "outputs": [
        {
          "output_type": "stream",
          "text": [
            "Status code: 200\n"
          ],
          "name": "stdout"
        }
      ]
    },
    {
      "cell_type": "code",
      "metadata": {
        "id": "dbGtVGYOdLtL"
      },
      "source": [
        "# View the API response as a .json\n",
        "response_dict = r.json()\n",
        "response_dict"
      ],
      "execution_count": null,
      "outputs": []
    },
    {
      "cell_type": "markdown",
      "metadata": {
        "id": "ToIDEba1kfhR"
      },
      "source": [
        "### Working with the Response Dictionary"
      ]
    },
    {
      "cell_type": "code",
      "metadata": {
        "id": "Vd6ebQl6dPMv",
        "outputId": "6476216e-dc20-4c5c-e128-e35f81169121",
        "colab": {
          "base_uri": "https://localhost:8080/",
          "height": 51
        }
      },
      "source": [
        "# Examine results\n",
        "print(response_dict.keys())\n",
        "\n",
        "print(f\"Total repositories: {response_dict['total_count']}\")"
      ],
      "execution_count": null,
      "outputs": [
        {
          "output_type": "stream",
          "text": [
            "dict_keys(['total_count', 'incomplete_results', 'items'])\n",
            "Total repositories: 5319708\n"
          ],
          "name": "stdout"
        }
      ]
    },
    {
      "cell_type": "code",
      "metadata": {
        "id": "iUMU6YqBdYms",
        "outputId": "e114a300-843a-4d4b-b05a-e05e3032682c",
        "colab": {
          "base_uri": "https://localhost:8080/",
          "height": 34
        }
      },
      "source": [
        "# Explore information about the repositories \n",
        "repo_dicts = response_dict['items']\n",
        "print(f\"Repositories returned: {len(repo_dicts)}\")"
      ],
      "execution_count": null,
      "outputs": [
        {
          "output_type": "stream",
          "text": [
            "Repositories returned: 30\n"
          ],
          "name": "stdout"
        }
      ]
    },
    {
      "cell_type": "code",
      "metadata": {
        "id": "hL2XMDkDdh2U",
        "outputId": "df9f11e5-56f8-47b2-c962-f73a297c1d0f",
        "colab": {
          "base_uri": "https://localhost:8080/",
          "height": 1000
        }
      },
      "source": [
        "# Examine the first repository\n",
        "repo_dict = repo_dicts[0]\n",
        "print(f\"\\nKeys: {len(repo_dict)}\")\n",
        "for key in sorted(repo_dict.keys()):\n",
        "    print(key)"
      ],
      "execution_count": null,
      "outputs": [
        {
          "output_type": "stream",
          "text": [
            "\n",
            "Keys: 74\n",
            "archive_url\n",
            "archived\n",
            "assignees_url\n",
            "blobs_url\n",
            "branches_url\n",
            "clone_url\n",
            "collaborators_url\n",
            "comments_url\n",
            "commits_url\n",
            "compare_url\n",
            "contents_url\n",
            "contributors_url\n",
            "created_at\n",
            "default_branch\n",
            "deployments_url\n",
            "description\n",
            "disabled\n",
            "downloads_url\n",
            "events_url\n",
            "fork\n",
            "forks\n",
            "forks_count\n",
            "forks_url\n",
            "full_name\n",
            "git_commits_url\n",
            "git_refs_url\n",
            "git_tags_url\n",
            "git_url\n",
            "has_downloads\n",
            "has_issues\n",
            "has_pages\n",
            "has_projects\n",
            "has_wiki\n",
            "homepage\n",
            "hooks_url\n",
            "html_url\n",
            "id\n",
            "issue_comment_url\n",
            "issue_events_url\n",
            "issues_url\n",
            "keys_url\n",
            "labels_url\n",
            "language\n",
            "languages_url\n",
            "license\n",
            "merges_url\n",
            "milestones_url\n",
            "mirror_url\n",
            "name\n",
            "node_id\n",
            "notifications_url\n",
            "open_issues\n",
            "open_issues_count\n",
            "owner\n",
            "private\n",
            "pulls_url\n",
            "pushed_at\n",
            "releases_url\n",
            "score\n",
            "size\n",
            "ssh_url\n",
            "stargazers_count\n",
            "stargazers_url\n",
            "statuses_url\n",
            "subscribers_url\n",
            "subscription_url\n",
            "svn_url\n",
            "tags_url\n",
            "teams_url\n",
            "trees_url\n",
            "updated_at\n",
            "url\n",
            "watchers\n",
            "watchers_count\n"
          ],
          "name": "stdout"
        }
      ]
    },
    {
      "cell_type": "code",
      "metadata": {
        "id": "tE4T_8ACP6Gw"
      },
      "source": [
        "repo_dicts = repo_dicts[0]\n",
        "print(f\"Repositories returned: {len(repo_dicts)}\")\n",
        "for repo_dict in repo_dicts:\n",
        "  print(\"\\nSelected information about each repository:\")\n",
        "  print(f\"Name: {repo_dicts['name']}\")"
      ],
      "execution_count": null,
      "outputs": []
    },
    {
      "cell_type": "code",
      "metadata": {
        "id": "BJJpXnC1QmKC"
      },
      "source": [
        "repo_dicts"
      ],
      "execution_count": null,
      "outputs": []
    },
    {
      "cell_type": "code",
      "metadata": {
        "id": "RfyFunFHimbi",
        "outputId": "15a118cf-0cc2-40fb-aaa1-4f69ed82e6b1",
        "colab": {
          "base_uri": "https://localhost:8080/",
          "height": 1000
        }
      },
      "source": [
        "### Lets create a loop to print out information for the top repositories\n",
        "\n",
        "repo_dicts = response_dict['items']\n",
        "print(f\"Repositories returned: {len(repo_dicts)}\")\n",
        "for repo_dict in repo_dicts:\n",
        "  print(\"\\nSelected information about each repository:\")\n",
        "  print(f\"Name: {repo_dict['name']}\")\n",
        "  print(f\"Owner: {repo_dict['owner']['login']}\")\n",
        "  print(f\"Stars: {repo_dict['stargazers_count']}\")\n",
        "  print(f\"Repository: {repo_dict['html_url']}\")\n",
        "  print(f\"Created: {repo_dict['created_at']}\")\n",
        "  print(f\"Updated: {repo_dict['updated_at']}\")\n",
        "  print(f\"Description: {repo_dict['description']}\")"
      ],
      "execution_count": null,
      "outputs": [
        {
          "output_type": "stream",
          "text": [
            "Repositories returned: 30\n",
            "\n",
            "Selected information about each repository:\n",
            "Name: system-design-primer\n",
            "Owner: donnemartin\n",
            "Stars: 108028\n",
            "Repository: https://github.com/donnemartin/system-design-primer\n",
            "Created: 2017-02-26T16:15:28Z\n",
            "Updated: 2020-09-29T23:32:03Z\n",
            "Description: Learn how to design large-scale systems. Prep for the system design interview.  Includes Anki flashcards.\n",
            "\n",
            "Selected information about each repository:\n",
            "Name: public-apis\n",
            "Owner: public-apis\n",
            "Stars: 97138\n",
            "Repository: https://github.com/public-apis/public-apis\n",
            "Created: 2016-03-20T23:49:42Z\n",
            "Updated: 2020-09-29T23:26:59Z\n",
            "Description: A collective list of free APIs for use in software and web development.\n",
            "\n",
            "Selected information about each repository:\n",
            "Name: awesome-python\n",
            "Owner: vinta\n",
            "Stars: 87193\n",
            "Repository: https://github.com/vinta/awesome-python\n",
            "Created: 2014-06-27T21:00:06Z\n",
            "Updated: 2020-09-29T21:25:01Z\n",
            "Description: A curated list of awesome Python frameworks, libraries, software and resources\n",
            "\n",
            "Selected information about each repository:\n",
            "Name: Python\n",
            "Owner: TheAlgorithms\n",
            "Stars: 86225\n",
            "Repository: https://github.com/TheAlgorithms/Python\n",
            "Created: 2016-07-16T09:44:01Z\n",
            "Updated: 2020-09-29T23:15:42Z\n",
            "Description: All Algorithms implemented in Python\n",
            "\n",
            "Selected information about each repository:\n",
            "Name: youtube-dl\n",
            "Owner: ytdl-org\n",
            "Stars: 71388\n",
            "Repository: https://github.com/ytdl-org/youtube-dl\n",
            "Created: 2010-10-31T14:35:07Z\n",
            "Updated: 2020-09-29T23:29:33Z\n",
            "Description: Command-line program to download videos from YouTube.com and other video sites\n",
            "\n",
            "Selected information about each repository:\n",
            "Name: models\n",
            "Owner: tensorflow\n",
            "Stars: 66436\n",
            "Repository: https://github.com/tensorflow/models\n",
            "Created: 2016-02-05T01:15:20Z\n",
            "Updated: 2020-09-29T21:00:24Z\n",
            "Description: Models and examples built with TensorFlow\n",
            "\n",
            "Selected information about each repository:\n",
            "Name: thefuck\n",
            "Owner: nvbn\n",
            "Stars: 55699\n",
            "Repository: https://github.com/nvbn/thefuck\n",
            "Created: 2015-04-08T15:08:04Z\n",
            "Updated: 2020-09-29T22:32:41Z\n",
            "Description: Magnificent app which corrects your previous console command.\n",
            "\n",
            "Selected information about each repository:\n",
            "Name: flask\n",
            "Owner: pallets\n",
            "Stars: 52213\n",
            "Repository: https://github.com/pallets/flask\n",
            "Created: 2010-04-06T11:11:59Z\n",
            "Updated: 2020-09-29T23:11:00Z\n",
            "Description: The Python micro framework for building web applications.\n",
            "\n",
            "Selected information about each repository:\n",
            "Name: awesome-machine-learning\n",
            "Owner: josephmisiti\n",
            "Stars: 46784\n",
            "Repository: https://github.com/josephmisiti/awesome-machine-learning\n",
            "Created: 2014-07-15T19:11:19Z\n",
            "Updated: 2020-09-29T22:28:35Z\n",
            "Description: A curated list of awesome Machine Learning frameworks, libraries and software.\n",
            "\n",
            "Selected information about each repository:\n",
            "Name: ansible\n",
            "Owner: ansible\n",
            "Stars: 44914\n",
            "Repository: https://github.com/ansible/ansible\n",
            "Created: 2012-03-06T14:58:02Z\n",
            "Updated: 2020-09-29T21:16:40Z\n",
            "Description: Ansible is a radically simple IT automation platform that makes your applications and systems easier to deploy and maintain. Automate everything from code deployment to network configuration to cloud management, in a language that approaches plain English, using SSH, with no agents to install on remote systems. https://docs.ansible.com.\n",
            "\n",
            "Selected information about each repository:\n",
            "Name: scikit-learn\n",
            "Owner: scikit-learn\n",
            "Stars: 42448\n",
            "Repository: https://github.com/scikit-learn/scikit-learn\n",
            "Created: 2010-08-17T09:43:38Z\n",
            "Updated: 2020-09-29T21:57:44Z\n",
            "Description: scikit-learn: machine learning in Python\n",
            "\n",
            "Selected information about each repository:\n",
            "Name: scrapy\n",
            "Owner: scrapy\n",
            "Stars: 38389\n",
            "Repository: https://github.com/scrapy/scrapy\n",
            "Created: 2010-02-22T02:01:14Z\n",
            "Updated: 2020-09-29T23:11:55Z\n",
            "Description: Scrapy, a fast high-level web crawling & scraping framework for Python.\n",
            "\n",
            "Selected information about each repository:\n",
            "Name: big-list-of-naughty-strings\n",
            "Owner: minimaxir\n",
            "Stars: 38009\n",
            "Repository: https://github.com/minimaxir/big-list-of-naughty-strings\n",
            "Created: 2015-08-08T20:57:20Z\n",
            "Updated: 2020-09-29T14:58:10Z\n",
            "Description: The Big List of Naughty Strings is a list of strings which have a high probability of causing issues when used as user-input data.\n",
            "\n",
            "Selected information about each repository:\n",
            "Name: core\n",
            "Owner: home-assistant\n",
            "Stars: 35853\n",
            "Repository: https://github.com/home-assistant/core\n",
            "Created: 2013-09-17T07:29:48Z\n",
            "Updated: 2020-09-29T23:06:39Z\n",
            "Description: :house_with_garden: Open source home automation that puts local control and privacy first\n",
            "\n",
            "Selected information about each repository:\n",
            "Name: you-get\n",
            "Owner: soimort\n",
            "Stars: 35125\n",
            "Repository: https://github.com/soimort/you-get\n",
            "Created: 2012-08-20T15:53:36Z\n",
            "Updated: 2020-09-29T16:57:47Z\n",
            "Description: :arrow_double_down: Dumb downloader that scrapes the web\n",
            "\n",
            "Selected information about each repository:\n",
            "Name: transformers\n",
            "Owner: huggingface\n",
            "Stars: 34350\n",
            "Repository: https://github.com/huggingface/transformers\n",
            "Created: 2018-10-29T13:56:00Z\n",
            "Updated: 2020-09-29T21:53:52Z\n",
            "Description: 🤗Transformers: State-of-the-art Natural Language Processing for Pytorch and TensorFlow 2.0.\n",
            "\n",
            "Selected information about each repository:\n",
            "Name: cpython\n",
            "Owner: python\n",
            "Stars: 33731\n",
            "Repository: https://github.com/python/cpython\n",
            "Created: 2017-02-10T19:23:51Z\n",
            "Updated: 2020-09-29T20:29:15Z\n",
            "Description: The Python programming language\n",
            "\n",
            "Selected information about each repository:\n",
            "Name: faceswap\n",
            "Owner: deepfakes\n",
            "Stars: 32517\n",
            "Repository: https://github.com/deepfakes/faceswap\n",
            "Created: 2017-12-19T09:44:13Z\n",
            "Updated: 2020-09-29T21:00:19Z\n",
            "Description: Deepfakes Software For All\n",
            "\n",
            "Selected information about each repository:\n",
            "Name: XX-Net\n",
            "Owner: XX-net\n",
            "Stars: 30343\n",
            "Repository: https://github.com/XX-net/XX-Net\n",
            "Created: 2015-01-15T09:35:51Z\n",
            "Updated: 2020-09-29T12:44:36Z\n",
            "Description: A proxy tool to bypass GFW.\n",
            "\n",
            "Selected information about each repository:\n",
            "Name: incubator-superset\n",
            "Owner: apache\n",
            "Stars: 30239\n",
            "Repository: https://github.com/apache/incubator-superset\n",
            "Created: 2015-07-21T18:55:34Z\n",
            "Updated: 2020-09-29T22:29:35Z\n",
            "Description: Apache Superset is a Data Visualization and Data Exploration Platform\n",
            "\n",
            "Selected information about each repository:\n",
            "Name: 12306\n",
            "Owner: testerSunshine\n",
            "Stars: 28739\n",
            "Repository: https://github.com/testerSunshine/12306\n",
            "Created: 2017-05-17T12:23:40Z\n",
            "Updated: 2020-09-29T16:49:20Z\n",
            "Description: 12306智能刷票，订票\n",
            "\n",
            "Selected information about each repository:\n",
            "Name: CppCoreGuidelines\n",
            "Owner: isocpp\n",
            "Stars: 28627\n",
            "Repository: https://github.com/isocpp/CppCoreGuidelines\n",
            "Created: 2015-08-19T20:22:52Z\n",
            "Updated: 2020-09-29T23:26:10Z\n",
            "Description: The C++ Core Guidelines are a set of tried-and-true guidelines, rules, and best practices about coding in C++\n",
            "\n",
            "Selected information about each repository:\n",
            "Name: certbot\n",
            "Owner: certbot\n",
            "Stars: 27215\n",
            "Repository: https://github.com/certbot/certbot\n",
            "Created: 2014-11-12T02:52:20Z\n",
            "Updated: 2020-09-29T15:11:01Z\n",
            "Description: Certbot is EFF's tool to obtain certs from Let's Encrypt and (optionally) auto-enable HTTPS on your server.  It can also act as a client for any other CA that uses the ACME protocol.\n",
            "\n",
            "Selected information about each repository:\n",
            "Name: AiLearning\n",
            "Owner: apachecn\n",
            "Stars: 27120\n",
            "Repository: https://github.com/apachecn/AiLearning\n",
            "Created: 2017-02-25T08:53:02Z\n",
            "Updated: 2020-09-29T21:53:55Z\n",
            "Description: AiLearning: 机器学习 - MachineLearning - ML、深度学习 - DeepLearning - DL、自然语言处理 NLP\n",
            "\n",
            "Selected information about each repository:\n",
            "Name: pandas\n",
            "Owner: pandas-dev\n",
            "Stars: 26708\n",
            "Repository: https://github.com/pandas-dev/pandas\n",
            "Created: 2010-08-24T01:37:33Z\n",
            "Updated: 2020-09-29T22:59:04Z\n",
            "Description: Flexible and powerful data analysis / manipulation library for Python, providing labeled data structures similar to R data.frame objects, statistical functions, and much more\n",
            "\n",
            "Selected information about each repository:\n",
            "Name: python-patterns\n",
            "Owner: faif\n",
            "Stars: 25955\n",
            "Repository: https://github.com/faif/python-patterns\n",
            "Created: 2012-06-06T21:02:35Z\n",
            "Updated: 2020-09-29T21:18:29Z\n",
            "Description: A collection of design patterns/idioms in Python\n",
            "\n",
            "Selected information about each repository:\n",
            "Name: manim\n",
            "Owner: 3b1b\n",
            "Stars: 25623\n",
            "Repository: https://github.com/3b1b/manim\n",
            "Created: 2015-03-22T18:50:58Z\n",
            "Updated: 2020-09-29T23:03:43Z\n",
            "Description: Animation engine for explanatory math videos\n",
            "\n",
            "Selected information about each repository:\n",
            "Name: bert\n",
            "Owner: google-research\n",
            "Stars: 25039\n",
            "Repository: https://github.com/google-research/bert\n",
            "Created: 2018-10-25T22:57:34Z\n",
            "Updated: 2020-09-29T21:53:59Z\n",
            "Description: TensorFlow code and pre-trained models for BERT\n",
            "\n",
            "Selected information about each repository:\n",
            "Name: funNLP\n",
            "Owner: fighting41love\n",
            "Stars: 24846\n",
            "Repository: https://github.com/fighting41love/funNLP\n",
            "Created: 2018-08-21T11:20:39Z\n",
            "Updated: 2020-09-29T19:40:33Z\n",
            "Description: 中英文敏感词、语言检测、中外手机/电话归属地/运营商查询、名字推断性别、手机号抽取、身份证抽取、邮箱抽取、中日文人名库、中文缩写库、拆字词典、词汇情感值、停用词、反动词表、暴恐词表、繁简体转换、英文模拟中文发音、汪峰歌词生成器、职业名称词库、同义词库、反义词库、否定词库、汽车品牌词库、汽车零件词库、连续英文切割、各种中文词向量、公司名字大全、古诗词库、IT词库、财经词库、成语词库、地名词库、历史名人词库、诗词词库、医学词库、饮食词库、法律词库、汽车词库、动物词库、中文聊天语料、中文谣言数据、百度中文问答数据集、句子相似度匹配算法集合、bert资源、文本生成&摘要相关工具、cocoNLP信息抽取工具、国内电话号码正则匹配、清华大学XLORE:中英文跨语言百科知识图谱、清华大学人工智能技术系列报告、自然语言生成、NLU太难了系列、自动对联数据及机器人、用户名黑名单列表、罪名法务名词及分类模型、微信公众号语料、cs224n深度学习自然语言处理课程、中文手写汉字识别、中文自然语言处理 语料/数据集、变量命名神器、分词语料库+代码、任务型对话英文数据集、ASR 语音数据集 + 基于深度学习的中文语音识别系统、笑声检测器、Microsoft多语言数字/单位/如日期时间识别包、中华新华字典数据库及api(包括常用歇后语、成语、词语和汉字)、文档图谱自动生成、SpaCy 中文模型、Common Voice语音识别数据集新版、神经网络关系抽取、基于bert的命名实体识别、关键词(Keyphrase)抽取包pke、基于医疗领域知识图谱的问答系统、基于依存句法与语义角色标注的事件三元组抽取、依存句法分析4万句高质量标注数据、cnocr：用来做中文OCR的Python3包、中文人物关系知识图谱项目、中文nlp竞赛项目及代码汇总、中文字符数据、speech-aligner: 从“人声语音”及其“语言文本”产生音素级别时间对齐标注的工具、AmpliGraph: 知识图谱表示学习(Python)库：知识图谱概念链接预测、Scattertext 文本可视化(python)、语言/知识表示工具：BERT & ERNIE、中文对比英文自然语言处理NLP的区别综述、Synonyms中文近义词工具包、HarvestText领域自适应文本挖掘工具（新词发现-情感分析-实体链接等）、word2word：(Python)方便易用的多语言词-词对集：62种语言/3,564个多语言对、语音识别语料生成工具：从具有音频/字幕的在线视频创建自动语音识别(ASR)语料库、构建医疗实体识别的模型（包含词典和语料标注）、单文档非监督的关键词抽取、Kashgari中使用gpt-2语言模型、开源的金融投资数据提取工具、文本自动摘要库TextTeaser: 仅支持英文、人民日报语料处理工具集、一些关于自然语言的基本模型、基于14W歌曲知识库的问答尝试--功能包括歌词接龙and已知歌词找歌曲以及歌曲歌手歌词三角关系的问答、基于Siamese bilstm模型的相似句子判定模型并提供训练数据集和测试数据集、用Transformer编解码模型实现的根据Hacker News文章标题自动生成评论、用BERT进行序列标记和文本分类的模板代码、LitBank：NLP数据集——支持自然语言处理和计算人文学科任务的100部带标记英文小说语料、百度开源的基准信息抽取系统、虚假新闻数据集、Facebook: LAMA语言模型分析，提供Transformer-XL/BERT/ELMo/GPT预训练语言模型的统一访问接口、CommonsenseQA：面向常识的英文QA挑战、中文知识图谱资料、数据及工具、各大公司内部里大牛分享的技术文档 PDF 或者 PPT、自然语言生成SQL语句（英文）、中文NLP数据增强（EDA）工具、英文NLP数据增强工具 、基于医药知识图谱的智能问答系统、京东商品知识图谱、基于mongodb存储的军事领域知识图谱问答项目、基于远监督的中文关系抽取、语音情感分析、中文ULMFiT-情感分析-文本分类-语料及模型、一个拍照做题程序、世界各国大规模人名库、一个利用有趣中文语料库 qingyun 训练出来的中文聊天机器人、中文聊天机器人seqGAN、省市区镇行政区划数据带拼音标注、教育行业新闻语料库包含自动文摘功能、开放了对话机器人-知识图谱-语义理解-自然语言处理工具及数据、中文知识图谱：基于百度百科中文页面-抽取三元组信息-构建中文知识图谱、masr: 中文语音识别-提供预训练模型-高识别率、Python音频数据增广库、中文全词覆盖BERT及两份阅读理解数据、ConvLab：开源多域端到端对话系统平台、中文自然语言处理数据集、基于最新版本rasa搭建的对话系统、基于TensorFlow和BERT的管道式实体及关系抽取、一个小型的证券知识图谱/知识库、复盘所有NLP比赛的TOP方案、OpenCLaP：多领域开源中文预训练语言模型仓库、UER：基于不同语料+编码器+目标任务的中文预训练模型仓库、中文自然语言处理向量合集、基于金融-司法领域(兼有闲聊性质)的聊天机器人、g2pC：基于上下文的汉语读音自动标记模块、Zincbase 知识图谱构建工具包、诗歌质量评价/细粒度情感诗歌语料库、快速转化「中文数字」和「阿拉伯数字」、百度知道问答语料库、基于知识图谱的问答系统、jieba_fast 加速版的jieba、正则表达式教程、中文阅读理解数据集、基于BERT等最新语言模型的抽取式摘要提取、Python利用深度学习进行文本摘要的综合指南、知识图谱深度学习相关资料整理、维基大规模平行文本语料、StanfordNLP 0.2.0：纯Python版自然语言处理包、NeuralNLP-NeuralClassifier：腾讯开源深度学习文本分类工具、端到端的封闭域对话系统、中文命名实体识别：NeuroNER vs. BertNER、新闻事件线索抽取、2019年百度的三元组抽取比赛：“科学空间队”源码、基于依存句法的开放域文本知识三元组抽取和知识库构建、中文的GPT2训练代码、ML-NLP - 机器学习(Machine Learning)NLP面试中常考到的知识点和代码实现、nlp4han:中文自然语言处理工具集(断句/分词/词性标注/组块/句法分析/语义分析/NER/N元语法/HMM/代词消解/情感分析/拼写检查、XLM：Facebook的跨语言预训练语言模型、用基于BERT的微调和特征提取方法来进行知识图谱百度百科人物词条属性抽取、中文自然语言处理相关的开放任务-数据集-当前最佳结果、CoupletAI - 基于CNN+Bi-LSTM+Attention 的自动对对联系统、抽象知识图谱、MiningZhiDaoQACorpus - 580万百度知道问答数据挖掘项目、brat rapid annotation tool: 序列标注工具、大规模中文知识图谱数据：1.4亿实体、数据增强在机器翻译及其他nlp任务中的应用及效果、allennlp阅读理解:支持多种数据和模型、PDF表格数据提取工具 、 Graphbrain：AI开源软件库和科研工具，目的是促进自动意义提取和文本理解以及知识的探索和推断、简历自动筛选系统、基于命名实体识别的简历自动摘要、中文语言理解测评基准，包括代表性的数据集&基准模型&语料库&排行榜、树洞 OCR 文字识别 、从包含表格的扫描图片中识别表格和文字、语声迁移、Python口语自然语言处理工具集(英文)、 similarity：相似度计算工具包，java编写、海量中文预训练ALBERT模型 、Transformers 2.0 、基于大规模音频数据集Audioset的音频增强 、Poplar：网页版自然语言标注工具、图片文字去除，可用于漫画翻译 、186种语言的数字叫法库、Amazon发布基于知识的人-人开放领域对话数据集 、中文文本纠错模块代码、繁简体转换 、 Python实现的多种文本可读性评价指标、类似于人名/地名/组织机构名的命名体识别数据集 、东南大学《知识图谱》研究生课程(资料)、. 英文拼写检查库 、 wwsearch是企业微信后台自研的全文检索引擎、CHAMELEON：深度学习新闻推荐系统元架构 、 8篇论文梳理BERT相关模型进展与反思、DocSearch：免费文档搜索引擎、 LIDA：轻量交互式对话标注工具 、aili - the fastest in-memory index in the East 东半球最快并发索引 、知识图谱车音工作项目、自然语言生成资源大全 、中日韩分词库mecab的Python接口库、中文文本摘要/关键词提取、汉字字符特征提取器 (featurizer)，提取汉字的特征（发音特征、字形特征）用做深度学习的特征、中文生成任务基准测评 、中文缩写数据集、中文任务基准测评 - 代表性的数据集-基准(预训练)模型-语料库-baseline-工具包-排行榜、PySS3：面向可解释AI的SS3文本分类器机器可视化工具 、中文NLP数据集列表、COPE - 格律诗编辑程序、doccano：基于网页的开源协同多语言文本标注工具 、PreNLP：自然语言预处理库、简单的简历解析器，用来从简历中提取关键信息、用于中文闲聊的GPT2模型：GPT2-chitchat、基于检索聊天机器人多轮响应选择相关资源列表(Leaderboards、Datasets、Papers)、(Colab)抽象文本摘要实现集锦(教程 、词语拼音数据、高效模糊搜索工具、NLP数据增广资源集、微软对话机器人框架 、 GitHub Typo Corpus：大规模GitHub多语言拼写错误/语法错误数据集、TextCluster：短文本聚类预处理模块 Short text cluster、面向语音识别的中文文本规范化、BLINK：最先进的实体链接库、BertPunc：基于BERT的最先进标点修复模型、Tokenizer：快速、可定制的文本词条化库、中文语言理解测评基准，包括代表性的数据集、基准(预训练)模型、语料库、排行榜、spaCy 医学文本挖掘与信息提取 、 NLP任务示例项目代码集、 python拼写检查库、chatbot-list - 行业内关于智能客服、聊天机器人的应用和架构、算法分享和介绍、语音质量评价指标(MOSNet, BSSEval, STOI, PESQ, SRMR)、 用138GB语料训练的法文RoBERTa预训练语言模型 、BERT-NER-Pytorch：三种不同模式的BERT中文NER实验、无道词典 - 有道词典的命令行版本，支持英汉互查和在线查询、2019年NLP亮点回顾、 Chinese medical dialogue data 中文医疗对话数据集 、最好的汉字数字(中文数字)-阿拉伯数字转换工具、 基于百科知识库的中文词语多词义/义项获取与特定句子词语语义消歧、awesome-nlp-sentiment-analysis - 情感分析、情绪原因识别、评价对象和评价词抽取、LineFlow：面向所有深度学习框架的NLP数据高效加载器、中文医学NLP公开资源整理 、MedQuAD：(英文)医学问答数据集、将自然语言数字串解析转换为整数和浮点数、Transfer Learning in Natural Language Processing (NLP) 、面向语音识别的中文/英文发音辞典、Tokenizers：注重性能与多功能性的最先进分词器、CLUENER 细粒度命名实体识别 Fine Grained Named Entity Recognition、 基于BERT的中文命名实体识别、中文谣言数据库、NLP数据集/基准任务大列表、nlp相关的一些论文及代码, 包括主题模型、词向量(Word Embedding)、命名实体识别(NER)、文本分类(Text Classificatin)、文本生成(Text Generation)、文本相似性(Text Similarity)计算等，涉及到各种与nlp相关的算法，基于keras和tensorflow 、Python文本挖掘/NLP实战示例、 Blackstone：面向非结构化法律文本的spaCy pipeline和NLP模型通过同义词替换实现文本“变脸” 、中文 预训练 ELECTREA 模型: 基于对抗学习 pretrain Chinese Model 、albert-chinese-ner - 用预训练语言模型ALBERT做中文NER 、基于GPT2的特定主题文本生成/文本增广、开源预训练语言模型合集、多语言句向量包、编码、标记和实现：一种可控高效的文本生成方法、 英文脏话大列表 、attnvis：GPT2、BERT等transformer语言模型注意力交互可视化、CoVoST：Facebook发布的多语种语音-文本翻译语料库，包括11种语言(法语、德语、荷兰语、俄语、西班牙语、意大利语、土耳其语、波斯语、瑞典语、蒙古语和中文)的语音、文字转录及英文译文、Jiagu自然语言处理工具 - 以BiLSTM等模型为基础，提供知识图谱关系抽取 中文分词 词性标注 命名实体识别 情感分析 新词发现 关键词 文本摘要 文本聚类等功能、用unet实现对文档表格的自动检测，表格重建、NLP事件提取文献资源列表 、 金融领域自然语言处理研究资源大列表、CLUEDatasetSearch - 中英文NLP数据集：搜索所有中文NLP数据集，附常用英文NLP数据集 、medical_NER - 中文医学知识图谱命名实体识别 、(哈佛)讲因果推理的免费书、知识图谱相关学习资料/数据集/工具资源大列表、Forte：灵活强大的自然语言处理pipeline工具集 、Python字符串相似性算法库、PyLaia：面向手写文档分析的深度学习工具包、TextFooler：针对文本分类/推理的对抗文本生成模块、Haystack：灵活、强大的可扩展问答(QA)框架、中文关键短语抽取工具\n",
            "\n",
            "Selected information about each repository:\n",
            "Name: Detectron\n",
            "Owner: facebookresearch\n",
            "Stars: 23699\n",
            "Repository: https://github.com/facebookresearch/Detectron\n",
            "Created: 2017-10-05T17:32:00Z\n",
            "Updated: 2020-09-29T22:17:58Z\n",
            "Description: FAIR's research platform for object detection research, implementing popular algorithms like Mask R-CNN and RetinaNet.\n"
          ],
          "name": "stdout"
        }
      ]
    },
    {
      "cell_type": "markdown",
      "metadata": {
        "id": "OkA6jb6ymKMT"
      },
      "source": [
        "### Monitoring API Rate Limits"
      ]
    },
    {
      "cell_type": "code",
      "metadata": {
        "id": "kIOBK-l3jl3J",
        "outputId": "2eb994c7-09e8-40e9-eabd-f9f372f84b49",
        "colab": {
          "base_uri": "https://localhost:8080/",
          "height": 204
        }
      },
      "source": [
        "# Create an API call and store the response\n",
        "\n",
        "url = 'https://api.github.com/rate_limit'\n",
        "headers = {'Accept': 'application/vnd.github.v3+json'}\n",
        "r = requests.get(url, headers=headers)\n",
        "\n",
        "# View the API response as a .json \n",
        "API_rate_limits = r.json()\n",
        "API_rate_limits"
      ],
      "execution_count": null,
      "outputs": [
        {
          "output_type": "execute_result",
          "data": {
            "text/plain": [
              "{'rate': {'limit': 60, 'remaining': 60, 'reset': 1601425260, 'used': 0},\n",
              " 'resources': {'core': {'limit': 60,\n",
              "   'remaining': 60,\n",
              "   'reset': 1601425260,\n",
              "   'used': 0},\n",
              "  'graphql': {'limit': 0, 'remaining': 0, 'reset': 1601425260, 'used': 0},\n",
              "  'integration_manifest': {'limit': 5000,\n",
              "   'remaining': 5000,\n",
              "   'reset': 1601425260,\n",
              "   'used': 0},\n",
              "  'search': {'limit': 10, 'remaining': 9, 'reset': 1601421719, 'used': 1}}}"
            ]
          },
          "metadata": {
            "tags": []
          },
          "execution_count": 8
        }
      ]
    },
    {
      "cell_type": "markdown",
      "metadata": {
        "id": "RlFNZJM-oJwG"
      },
      "source": [
        "### Visualizing Repositories Using Plotly"
      ]
    },
    {
      "cell_type": "code",
      "metadata": {
        "id": "JkghiQVUoSEG"
      },
      "source": [
        "from plotly.graph_objs import Bar\n",
        "from plotly import offline"
      ],
      "execution_count": null,
      "outputs": []
    },
    {
      "cell_type": "code",
      "metadata": {
        "id": "lx3tMu9GNWvd",
        "outputId": "4f3bbff5-7ade-4987-e2a4-ec04c0c04ab0",
        "colab": {
          "base_uri": "https://localhost:8080/",
          "height": 34
        }
      },
      "source": [
        "# Make an API call and store the response in a variable\n",
        "\n",
        "url = 'https://api.github.com/search/repositories?q=language:python&sort=stars'\n",
        "headers = {'Accept': 'application/vnd.github.v3+json'}\n",
        "r = requests.get(url, headers=headers)\n",
        "\n",
        "#Print the value of Status Code to make sure the call was successful\n",
        "print(f\"Status code: {r.status_code}\")"
      ],
      "execution_count": null,
      "outputs": [
        {
          "output_type": "stream",
          "text": [
            "Status code: 200\n"
          ],
          "name": "stdout"
        }
      ]
    },
    {
      "cell_type": "code",
      "metadata": {
        "id": "1gJYaHSWoxHm"
      },
      "source": [
        "# Process results from initial API call\n",
        "response_dict = r.json()\n",
        "repo_dicts = response_dict['items']\n",
        "repo_names, stars = [], []\n",
        "for repo_dict in repo_dicts:\n",
        "  repo_names.append(repo_dict['name'])\n",
        "  stars.append(repo_dict['stargazers_count'])"
      ],
      "execution_count": null,
      "outputs": []
    },
    {
      "cell_type": "code",
      "metadata": {
        "id": "ZkO2nWDxrxiU"
      },
      "source": [
        "# Make visualization\n",
        "\n",
        "data = [{\n",
        "    'type' : 'bar',\n",
        "    'x' : repo_names,\n",
        "    'y' : stars,\n",
        "}]\n",
        "\n",
        "my_layout = {\n",
        "    'title' : 'Most-Starred Python Projects on Github',\n",
        "    'xaxis' : {'title': 'Repository'},\n",
        "    'yaxis' : {'title': 'Stars'},\n",
        "}\n",
        "\n",
        "fig = {'data': data, 'layout': my_layout}\n",
        "\n",
        "import plotly.io as pio\n",
        "pio.show(fig)"
      ],
      "execution_count": null,
      "outputs": []
    },
    {
      "cell_type": "code",
      "metadata": {
        "id": "dY1DBP8BxDGa"
      },
      "source": [
        "### Different Visualization\n",
        "temp = px.bar(response_dict, x=repo_names, y=stars, title=\"Most-Starred Repositories on GitHub\")\n",
        "temp.update_layout(yaxis=dict(range=[0,90000]))\n",
        "temp"
      ],
      "execution_count": null,
      "outputs": []
    },
    {
      "cell_type": "code",
      "metadata": {
        "id": "rhPbJSeNKaxZ",
        "outputId": "a38bc7f7-4db1-4542-c2f6-c8f166f75967",
        "colab": {
          "base_uri": "https://localhost:8080/",
          "height": 336
        }
      },
      "source": [
        "import matplotlib.pyplot as plt\n",
        "fig = plt.figure()\n",
        "ax = fig.add_axes([0,0,1,1])\n",
        "x = repo_names\n",
        "y = stars\n",
        "ax.bar(x, y)\n",
        "plt.show()"
      ],
      "execution_count": null,
      "outputs": [
        {
          "output_type": "display_data",
          "data": {
            "image/png": "[encoded data removed]",
            "text/plain": [
              "<Figure size 432x288 with 1 Axes>"
            ]
          },
          "metadata": {
            "tags": [],
            "needs_background": "light"
          }
        }
      ]
    }
  ]
}